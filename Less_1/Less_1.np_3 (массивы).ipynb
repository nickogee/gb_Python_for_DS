{
 "cells": [
  {
   "cell_type": "code",
   "execution_count": 2,
   "id": "965297eb",
   "metadata": {},
   "outputs": [],
   "source": [
    "import numpy as np"
   ]
  },
  {
   "cell_type": "markdown",
   "id": "e3a4f914",
   "metadata": {},
   "source": [
    "Автоматическое создание массивов"
   ]
  },
  {
   "cell_type": "code",
   "execution_count": 4,
   "id": "ef6fd803",
   "metadata": {},
   "outputs": [
    {
     "data": {
      "text/plain": [
       "array([[0., 0., 0., 0.],\n",
       "       [0., 0., 0., 0.],\n",
       "       [0., 0., 0., 0.]])"
      ]
     },
     "execution_count": 4,
     "metadata": {},
     "output_type": "execute_result"
    }
   ],
   "source": [
    "a = np.zeros((3,4))\n",
    "a"
   ]
  },
  {
   "cell_type": "code",
   "execution_count": 6,
   "id": "dcc22698",
   "metadata": {},
   "outputs": [
    {
     "data": {
      "text/plain": [
       "array([[1., 1., 1.],\n",
       "       [1., 1., 1.],\n",
       "       [1., 1., 1.],\n",
       "       [1., 1., 1.],\n",
       "       [1., 1., 1.]])"
      ]
     },
     "execution_count": 6,
     "metadata": {},
     "output_type": "execute_result"
    }
   ],
   "source": [
    "a = np.ones((5,3))\n",
    "a"
   ]
  },
  {
   "cell_type": "code",
   "execution_count": 8,
   "id": "36382560",
   "metadata": {},
   "outputs": [
    {
     "data": {
      "text/plain": [
       "array([0, 1, 2, 3, 4, 5, 6, 7, 8, 9])"
      ]
     },
     "execution_count": 8,
     "metadata": {},
     "output_type": "execute_result"
    }
   ],
   "source": [
    "np.arange(10)"
   ]
  },
  {
   "cell_type": "code",
   "execution_count": 10,
   "id": "6764fbc7",
   "metadata": {},
   "outputs": [
    {
     "data": {
      "text/plain": [
       "array([1, 2, 3, 4, 5, 6, 7, 8, 9])"
      ]
     },
     "execution_count": 10,
     "metadata": {},
     "output_type": "execute_result"
    }
   ],
   "source": [
    "np.arange(1,10)"
   ]
  },
  {
   "cell_type": "code",
   "execution_count": 12,
   "id": "c1baa884",
   "metadata": {},
   "outputs": [
    {
     "data": {
      "text/plain": [
       "array([0, 2, 4, 6, 8])"
      ]
     },
     "execution_count": 12,
     "metadata": {},
     "output_type": "execute_result"
    }
   ],
   "source": [
    "np.arange(0,10,2)"
   ]
  },
  {
   "cell_type": "code",
   "execution_count": 14,
   "id": "08814826",
   "metadata": {},
   "outputs": [
    {
     "data": {
      "text/plain": [
       "array([10,  9,  8,  7,  6,  5,  4,  3,  2,  1])"
      ]
     },
     "execution_count": 14,
     "metadata": {},
     "output_type": "execute_result"
    }
   ],
   "source": [
    "np.arange(10, 0, -1)"
   ]
  },
  {
   "cell_type": "code",
   "execution_count": 16,
   "id": "6ff8028f",
   "metadata": {},
   "outputs": [
    {
     "data": {
      "text/plain": [
       "array([0. , 0.2, 0.4, 0.6, 0.8, 1. , 1.2, 1.4, 1.6, 1.8, 2. , 2.2, 2.4,\n",
       "       2.6, 2.8, 3. , 3.2, 3.4, 3.6, 3.8, 4. , 4.2, 4.4, 4.6, 4.8, 5. ,\n",
       "       5.2, 5.4, 5.6, 5.8, 6. , 6.2, 6.4, 6.6, 6.8, 7. , 7.2, 7.4, 7.6,\n",
       "       7.8, 8. , 8.2, 8.4, 8.6, 8.8, 9. , 9.2, 9.4, 9.6, 9.8])"
      ]
     },
     "execution_count": 16,
     "metadata": {},
     "output_type": "execute_result"
    }
   ],
   "source": [
    "np.arange(0, 10, 0.2)"
   ]
  },
  {
   "cell_type": "code",
   "execution_count": 18,
   "id": "19c97b79",
   "metadata": {},
   "outputs": [
    {
     "data": {
      "text/plain": [
       "array([ 0.        ,  1.42857143,  2.85714286,  4.28571429,  5.71428571,\n",
       "        7.14285714,  8.57142857, 10.        , 11.42857143, 12.85714286,\n",
       "       14.28571429, 15.71428571, 17.14285714, 18.57142857, 20.        ])"
      ]
     },
     "execution_count": 18,
     "metadata": {},
     "output_type": "execute_result"
    }
   ],
   "source": [
    "np.linspace(0, 20, 15)\n",
    "# 15 - количество чисел в заданном диапазоне"
   ]
  },
  {
   "cell_type": "code",
   "execution_count": 21,
   "id": "b7f6c834",
   "metadata": {},
   "outputs": [
    {
     "data": {
      "text/plain": [
       "array([   1.        ,    2.15443469,    4.64158883,   10.        ,\n",
       "         21.5443469 ,   46.41588834,  100.        ,  215.443469  ,\n",
       "        464.15888336, 1000.        ])"
      ]
     },
     "execution_count": 21,
     "metadata": {},
     "output_type": "execute_result"
    }
   ],
   "source": [
    "# В качестве первых двух аргументов - степени числа 10\n",
    "np.logspace(0, 3, 10)"
   ]
  },
  {
   "cell_type": "markdown",
   "id": "5768c7a9",
   "metadata": {},
   "source": [
    "Генерация случайных чисел"
   ]
  },
  {
   "cell_type": "code",
   "execution_count": 23,
   "id": "0fbd5801",
   "metadata": {},
   "outputs": [
    {
     "data": {
      "text/plain": [
       "0.02951384375008126"
      ]
     },
     "execution_count": 23,
     "metadata": {},
     "output_type": "execute_result"
    }
   ],
   "source": [
    "np.random.sample()"
   ]
  },
  {
   "cell_type": "code",
   "execution_count": 24,
   "id": "1cbc654d",
   "metadata": {},
   "outputs": [
    {
     "data": {
      "text/plain": [
       "array([0.55929948, 0.27936034, 0.37033836, 0.16698561])"
      ]
     },
     "execution_count": 24,
     "metadata": {},
     "output_type": "execute_result"
    }
   ],
   "source": [
    "np.random.sample(4)"
   ]
  },
  {
   "cell_type": "code",
   "execution_count": 26,
   "id": "688eab56",
   "metadata": {},
   "outputs": [
    {
     "data": {
      "text/plain": [
       "array([[0.23915293, 0.17807172, 0.00373937, 0.10049502],\n",
       "       [0.06541427, 0.49834167, 0.74031191, 0.30035943]])"
      ]
     },
     "execution_count": 26,
     "metadata": {},
     "output_type": "execute_result"
    }
   ],
   "source": [
    "np.random.sample((2,4))"
   ]
  },
  {
   "cell_type": "code",
   "execution_count": 28,
   "id": "8dafc613",
   "metadata": {},
   "outputs": [
    {
     "data": {
      "text/plain": [
       "array([[[2.33263916e-01, 5.35677159e-01, 3.86074417e-01, 5.51589866e-01],\n",
       "        [2.72338545e-01, 9.12185645e-01, 1.72073152e-01, 8.36833817e-01],\n",
       "        [6.38295653e-01, 2.14810550e-01, 3.39919294e-01, 6.99248431e-01],\n",
       "        [7.67359126e-04, 7.18223545e-01, 9.29217351e-01, 6.54221381e-01],\n",
       "        [1.16503918e-01, 5.77838159e-02, 7.23086740e-01, 1.23297485e-01]],\n",
       "\n",
       "       [[1.36200419e-01, 9.15101470e-01, 5.23242542e-01, 5.36573171e-01],\n",
       "        [4.79672113e-02, 1.26717127e-02, 4.19400381e-01, 8.61942212e-01],\n",
       "        [3.98573356e-01, 3.67157806e-01, 6.39911176e-01, 8.47657432e-01],\n",
       "        [8.58087346e-01, 3.22188096e-01, 5.54186906e-01, 5.60242966e-01],\n",
       "        [1.84519539e-01, 4.71136950e-01, 8.12806060e-01, 8.03210444e-01]],\n",
       "\n",
       "       [[1.14541833e-02, 4.47420614e-01, 7.49297159e-01, 4.51683084e-01],\n",
       "        [4.51496050e-01, 2.73782427e-01, 9.40014670e-01, 4.15672549e-01],\n",
       "        [6.34805920e-01, 8.23835635e-01, 7.27076104e-01, 9.77992316e-01],\n",
       "        [8.31213292e-01, 5.78960472e-02, 9.36939659e-01, 7.63950921e-01],\n",
       "        [3.23264365e-01, 8.91068542e-02, 6.92117340e-01, 5.83590092e-01]],\n",
       "\n",
       "       [[9.34838276e-01, 3.81816746e-01, 1.62161534e-01, 6.68114610e-01],\n",
       "        [6.28056509e-01, 9.85312531e-01, 8.16934959e-01, 3.37847626e-01],\n",
       "        [8.74766001e-01, 1.46236869e-01, 5.05573993e-01, 9.80360862e-01],\n",
       "        [5.03667627e-02, 9.41899881e-01, 4.05355535e-01, 9.97267423e-01],\n",
       "        [1.55793901e-01, 6.29361986e-01, 7.68039498e-01, 4.06931500e-01]],\n",
       "\n",
       "       [[7.82418657e-01, 2.97901043e-01, 7.94560243e-01, 5.42635847e-01],\n",
       "        [3.47882616e-01, 7.12270802e-02, 8.39274746e-01, 3.39770189e-01],\n",
       "        [6.19132247e-01, 8.17051209e-02, 8.98318650e-01, 2.11890145e-01],\n",
       "        [5.79696156e-01, 8.85176753e-01, 8.00730205e-01, 5.73869337e-01],\n",
       "        [6.12983540e-01, 9.44335273e-01, 6.83363752e-01, 1.75494153e-01]],\n",
       "\n",
       "       [[5.16804732e-01, 1.65564851e-01, 8.66592302e-03, 4.56655538e-01],\n",
       "        [7.10672072e-01, 7.91964686e-01, 2.83698720e-01, 1.81030600e-01],\n",
       "        [7.93455667e-01, 6.26795265e-01, 7.67205633e-01, 6.03192769e-04],\n",
       "        [1.68896189e-01, 7.86257706e-01, 9.33706268e-01, 3.96593524e-01],\n",
       "        [8.17738614e-02, 7.18302413e-01, 7.80637715e-01, 3.98718669e-01]],\n",
       "\n",
       "       [[8.64288018e-01, 1.97817124e-01, 7.18122864e-01, 6.21068169e-01],\n",
       "        [7.44124018e-01, 4.71916311e-01, 3.11786185e-01, 3.50736873e-01],\n",
       "        [3.26748736e-02, 9.26513391e-01, 8.62045818e-01, 5.00498069e-02],\n",
       "        [7.17870862e-01, 6.56875416e-01, 5.48134343e-01, 1.91922599e-01],\n",
       "        [5.51591414e-01, 2.78799345e-01, 9.63502057e-01, 9.22050442e-01]],\n",
       "\n",
       "       [[9.38530960e-01, 3.11147619e-01, 1.56434920e-02, 7.29773850e-01],\n",
       "        [6.92917566e-01, 7.27087930e-02, 8.90640285e-01, 5.45366013e-01],\n",
       "        [7.65855136e-01, 2.26614531e-01, 9.25884244e-01, 4.03793539e-01],\n",
       "        [7.99816365e-01, 4.07581762e-01, 8.97610972e-01, 2.27360862e-01],\n",
       "        [1.52763839e-01, 3.44790876e-03, 5.72791369e-01, 2.18835594e-01]],\n",
       "\n",
       "       [[5.04174903e-01, 3.68095166e-01, 1.67607048e-01, 5.33540289e-01],\n",
       "        [5.96252285e-01, 3.16913849e-01, 2.42049959e-02, 9.59158427e-01],\n",
       "        [3.92760851e-01, 8.65560354e-01, 6.87934560e-01, 3.79145823e-01],\n",
       "        [3.61850419e-01, 7.26536671e-01, 8.68413531e-01, 3.22836949e-01],\n",
       "        [1.26348888e-01, 7.09103446e-01, 1.25444992e-01, 6.09065772e-01]],\n",
       "\n",
       "       [[8.94001086e-01, 8.81749399e-01, 1.07313782e-01, 8.06564404e-02],\n",
       "        [5.72422210e-01, 9.97017161e-03, 6.74535997e-01, 6.27707163e-01],\n",
       "        [3.93572055e-01, 9.55825693e-02, 6.12954544e-01, 6.98941002e-01],\n",
       "        [3.28743901e-01, 5.17073243e-01, 2.42788047e-02, 8.94242770e-01],\n",
       "        [3.72996327e-01, 7.44345608e-02, 1.96275189e-02, 6.75464174e-01]]])"
      ]
     },
     "execution_count": 28,
     "metadata": {},
     "output_type": "execute_result"
    }
   ],
   "source": [
    "np.random.sample((10, 5, 4))"
   ]
  },
  {
   "cell_type": "code",
   "execution_count": 30,
   "id": "825c4c10",
   "metadata": {},
   "outputs": [
    {
     "data": {
      "text/plain": [
       "array([ 0.44973479, -1.5505212 ,  0.21725544, -0.08974281, -0.03834845,\n",
       "        1.28715543, -0.78132132, -0.82425331,  0.34789114, -0.64789251])"
      ]
     },
     "execution_count": 30,
     "metadata": {},
     "output_type": "execute_result"
    }
   ],
   "source": [
    "# Числа с нормальным распределением (среднее значение - 0, среднеквадратичное отклонение - 1)\n",
    "np.random.randn(10)"
   ]
  },
  {
   "cell_type": "code",
   "execution_count": 33,
   "id": "83ead665",
   "metadata": {},
   "outputs": [
    {
     "data": {
      "text/plain": [
       "array([[-0.83820772, -0.30912139, -0.17970661],\n",
       "       [-0.25852988,  0.10193902, -0.43721098],\n",
       "       [-0.87480285,  2.42187058, -0.06763164],\n",
       "       [-1.34192601,  1.22919869,  0.21772822]])"
      ]
     },
     "execution_count": 33,
     "metadata": {},
     "output_type": "execute_result"
    }
   ],
   "source": [
    "np.random.randn(4,3)"
   ]
  },
  {
   "cell_type": "code",
   "execution_count": 36,
   "id": "9365481c",
   "metadata": {},
   "outputs": [
    {
     "data": {
      "text/plain": [
       "6"
      ]
     },
     "execution_count": 36,
     "metadata": {},
     "output_type": "execute_result"
    }
   ],
   "source": [
    "# генерация целых чисел\n",
    "np.random.randint(10)"
   ]
  },
  {
   "cell_type": "code",
   "execution_count": 39,
   "id": "7582ac6c",
   "metadata": {},
   "outputs": [
    {
     "data": {
      "text/plain": [
       "array([75,  8, 40, 50, 15])"
      ]
     },
     "execution_count": 39,
     "metadata": {},
     "output_type": "execute_result"
    }
   ],
   "source": [
    "np.random.randint(0, 100, 5)"
   ]
  },
  {
   "cell_type": "code",
   "execution_count": 41,
   "id": "14ee0145",
   "metadata": {},
   "outputs": [
    {
     "data": {
      "text/plain": [
       "array([[35, 76, 28, 67],\n",
       "       [55, 19, 61, 74],\n",
       "       [18, 64, 69, 55]])"
      ]
     },
     "execution_count": 41,
     "metadata": {},
     "output_type": "execute_result"
    }
   ],
   "source": [
    "np.random.randint(0, 100, (3,4))"
   ]
  },
  {
   "cell_type": "code",
   "execution_count": 42,
   "id": "09bd2c41",
   "metadata": {},
   "outputs": [],
   "source": [
    "b = np.array([1,2,3,4,5,6,7,8])"
   ]
  },
  {
   "cell_type": "code",
   "execution_count": 45,
   "id": "92c8f1bb",
   "metadata": {},
   "outputs": [
    {
     "data": {
      "text/plain": [
       "5"
      ]
     },
     "execution_count": 45,
     "metadata": {},
     "output_type": "execute_result"
    }
   ],
   "source": [
    "# Выбор случайного элемента из заданного массива\n",
    "np.random.choice(b)"
   ]
  },
  {
   "cell_type": "code",
   "execution_count": 47,
   "id": "e40557de",
   "metadata": {},
   "outputs": [
    {
     "data": {
      "text/plain": [
       "array([1, 6, 1])"
      ]
     },
     "execution_count": 47,
     "metadata": {},
     "output_type": "execute_result"
    }
   ],
   "source": [
    "np.random.choice(b, 3)"
   ]
  },
  {
   "cell_type": "markdown",
   "id": "f798dfb8",
   "metadata": {},
   "source": [
    "Изменение формы массива"
   ]
  },
  {
   "cell_type": "code",
   "execution_count": 49,
   "id": "531d06ac",
   "metadata": {},
   "outputs": [
    {
     "data": {
      "text/plain": [
       "array([ 0,  1,  2,  3,  4,  5,  6,  7,  8,  9, 10, 11])"
      ]
     },
     "execution_count": 49,
     "metadata": {},
     "output_type": "execute_result"
    }
   ],
   "source": [
    "a = np.arange(12)\n",
    "a"
   ]
  },
  {
   "cell_type": "code",
   "execution_count": 52,
   "id": "b1406bee",
   "metadata": {},
   "outputs": [
    {
     "data": {
      "text/plain": [
       "array([[ 0,  1,  2,  3],\n",
       "       [ 4,  5,  6,  7],\n",
       "       [ 8,  9, 10, 11]])"
      ]
     },
     "execution_count": 52,
     "metadata": {},
     "output_type": "execute_result"
    }
   ],
   "source": [
    "a.reshape(3,4)\n"
   ]
  },
  {
   "cell_type": "code",
   "execution_count": 53,
   "id": "4756585d",
   "metadata": {},
   "outputs": [
    {
     "data": {
      "text/plain": [
       "array([ 0,  1,  2,  3,  4,  5,  6,  7,  8,  9, 10, 11])"
      ]
     },
     "execution_count": 53,
     "metadata": {},
     "output_type": "execute_result"
    }
   ],
   "source": [
    "a"
   ]
  },
  {
   "cell_type": "code",
   "execution_count": 55,
   "id": "d4f82712",
   "metadata": {},
   "outputs": [
    {
     "data": {
      "text/plain": [
       "array([[ 0,  1,  2,  3],\n",
       "       [ 4,  5,  6,  7],\n",
       "       [ 8,  9, 10, 11]])"
      ]
     },
     "execution_count": 55,
     "metadata": {},
     "output_type": "execute_result"
    }
   ],
   "source": [
    "# чтобы решейп применить к начальной матрице\n",
    "a.resize(3,4)\n",
    "a"
   ]
  },
  {
   "cell_type": "markdown",
   "id": "0034126f",
   "metadata": {},
   "source": [
    "Соединение массивов"
   ]
  },
  {
   "cell_type": "code",
   "execution_count": 57,
   "id": "83129e33",
   "metadata": {},
   "outputs": [
    {
     "data": {
      "text/plain": [
       "array([[0., 0., 0., 0.],\n",
       "       [0., 0., 0., 0.]])"
      ]
     },
     "execution_count": 57,
     "metadata": {},
     "output_type": "execute_result"
    }
   ],
   "source": [
    "a = np.zeros((2,4))\n",
    "a"
   ]
  },
  {
   "cell_type": "code",
   "execution_count": 58,
   "id": "97c2f21f",
   "metadata": {},
   "outputs": [
    {
     "data": {
      "text/plain": [
       "array([[1., 1., 1., 1.],\n",
       "       [1., 1., 1., 1.]])"
      ]
     },
     "execution_count": 58,
     "metadata": {},
     "output_type": "execute_result"
    }
   ],
   "source": [
    "b = np.ones((2,4))\n",
    "b"
   ]
  },
  {
   "cell_type": "code",
   "execution_count": 60,
   "id": "51ac7fed",
   "metadata": {},
   "outputs": [
    {
     "data": {
      "text/plain": [
       "array([[0., 0., 0., 0.],\n",
       "       [0., 0., 0., 0.],\n",
       "       [1., 1., 1., 1.],\n",
       "       [1., 1., 1., 1.]])"
      ]
     },
     "execution_count": 60,
     "metadata": {},
     "output_type": "execute_result"
    }
   ],
   "source": [
    "# соединение по оси х\n",
    "v = np.vstack((a,b))\n",
    "v"
   ]
  },
  {
   "cell_type": "code",
   "execution_count": 61,
   "id": "1720d55b",
   "metadata": {},
   "outputs": [
    {
     "data": {
      "text/plain": [
       "((2, 4), (2, 4), (4, 4))"
      ]
     },
     "execution_count": 61,
     "metadata": {},
     "output_type": "execute_result"
    }
   ],
   "source": [
    "a.shape, b.shape, v.shape"
   ]
  },
  {
   "cell_type": "code",
   "execution_count": 64,
   "id": "54182ff5",
   "metadata": {},
   "outputs": [
    {
     "data": {
      "text/plain": [
       "array([[0., 0., 0., 0.],\n",
       "       [0., 0., 0., 0.],\n",
       "       [1., 1., 1., 1.],\n",
       "       [1., 1., 1., 1.]])"
      ]
     },
     "execution_count": 64,
     "metadata": {},
     "output_type": "execute_result"
    }
   ],
   "source": [
    "np.concatenate((a,b), axis=0)"
   ]
  },
  {
   "cell_type": "code",
   "execution_count": 65,
   "id": "88b8b020",
   "metadata": {},
   "outputs": [
    {
     "data": {
      "text/plain": [
       "array([[0., 0., 0., 0., 1., 1., 1., 1.],\n",
       "       [0., 0., 0., 0., 1., 1., 1., 1.]])"
      ]
     },
     "execution_count": 65,
     "metadata": {},
     "output_type": "execute_result"
    }
   ],
   "source": [
    "np.concatenate((a,b), axis=1)"
   ]
  },
  {
   "cell_type": "code",
   "execution_count": 66,
   "id": "38b7a07f",
   "metadata": {},
   "outputs": [
    {
     "data": {
      "text/plain": [
       "array([[0., 0., 0., 0., 1., 1., 1., 1.],\n",
       "       [0., 0., 0., 0., 1., 1., 1., 1.]])"
      ]
     },
     "execution_count": 66,
     "metadata": {},
     "output_type": "execute_result"
    }
   ],
   "source": [
    "# соединение по оси у\n",
    "h = np.hstack((a,b))\n",
    "h"
   ]
  },
  {
   "cell_type": "code",
   "execution_count": 67,
   "id": "bdab965d",
   "metadata": {},
   "outputs": [
    {
     "data": {
      "text/plain": [
       "array([[[0., 1.],\n",
       "        [0., 1.],\n",
       "        [0., 1.],\n",
       "        [0., 1.]],\n",
       "\n",
       "       [[0., 1.],\n",
       "        [0., 1.],\n",
       "        [0., 1.],\n",
       "        [0., 1.]]])"
      ]
     },
     "execution_count": 67,
     "metadata": {},
     "output_type": "execute_result"
    }
   ],
   "source": [
    "# соединение по оси z\n",
    "d = np.dstack((a,b))\n",
    "d"
   ]
  }
 ],
 "metadata": {
  "kernelspec": {
   "display_name": "Python 3 (ipykernel)",
   "language": "python",
   "name": "python3"
  },
  "language_info": {
   "codemirror_mode": {
    "name": "ipython",
    "version": 3
   },
   "file_extension": ".py",
   "mimetype": "text/x-python",
   "name": "python",
   "nbconvert_exporter": "python",
   "pygments_lexer": "ipython3",
   "version": "3.10.6"
  }
 },
 "nbformat": 4,
 "nbformat_minor": 5
}
