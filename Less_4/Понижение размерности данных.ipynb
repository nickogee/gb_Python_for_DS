{
 "cells": [
  {
   "cell_type": "code",
   "execution_count": 1,
   "id": "cc74184a",
   "metadata": {},
   "outputs": [],
   "source": [
    "import numpy as np\n",
    "import pandas as pd\n",
    "import matplotlib.pyplot as plt\n",
    "\n",
    "plt.style.use('fivethirtyeight')\n",
    "%config InlineBackend.figure_format = 'svg'\n",
    "%matplotlib inline"
   ]
  },
  {
   "cell_type": "markdown",
   "id": "8e4085ec",
   "metadata": {},
   "source": [
    "### PCA(Метод главных компонент)"
   ]
  },
  {
   "cell_type": "code",
   "execution_count": 2,
   "id": "6540a11a",
   "metadata": {},
   "outputs": [],
   "source": [
    "# Столбец 0 -количество комнат\n",
    "# Столбец 1 - площадь дома (тыс кв. футов)\n",
    "\n",
    "houses = np.array([\n",
    "    [5, 1.6],\n",
    "    [4, 1.4],\n",
    "    [6, 1.9],\n",
    "    [3, 1.1],\n",
    "    [4, 1.25]\n",
    "])"
   ]
  },
  {
   "cell_type": "code",
   "execution_count": 3,
   "id": "232f532d",
   "metadata": {},
   "outputs": [
    {
     "data": {
      "text/plain": [
       "Text(0, 0.5, 'Площадь дома')"
      ]
     },
     "execution_count": 3,
     "metadata": {},
     "output_type": "execute_result"
    },
    {
     "data": {
      "image/svg+xml": [
       "<?xml version=\"1.0\" encoding=\"utf-8\" standalone=\"no\"?>\n",
       "<!DOCTYPE svg PUBLIC \"-//W3C//DTD SVG 1.1//EN\"\n",
       "  \"http://www.w3.org/Graphics/SVG/1.1/DTD/svg11.dtd\">\n",
       "<svg xmlns:xlink=\"http://www.w3.org/1999/xlink\" width=\"461.319625pt\" height=\"331.644625pt\" viewBox=\"0 0 461.319625 331.644625\" xmlns=\"http://www.w3.org/2000/svg\" version=\"1.1\">\n",
       " <metadata>\n",
       "  <rdf:RDF xmlns:dc=\"http://purl.org/dc/elements/1.1/\" xmlns:cc=\"http://creativecommons.org/ns#\" xmlns:rdf=\"http://www.w3.org/1999/02/22-rdf-syntax-ns#\">\n",
       "   <cc:Work>\n",
       "    <dc:type rdf:resource=\"http://purl.org/dc/dcmitype/StillImage\"/>\n",
       "    <dc:date>2023-01-28T19:24:34.418302</dc:date>\n",
       "    <dc:format>image/svg+xml</dc:format>\n",
       "    <dc:creator>\n",
       "     <cc:Agent>\n",
       "      <dc:title>Matplotlib v3.6.3, https://matplotlib.org/</dc:title>\n",
       "     </cc:Agent>\n",
       "    </dc:creator>\n",
       "   </cc:Work>\n",
       "  </rdf:RDF>\n",
       " </metadata>\n",
       " <defs>\n",
       "  <style type=\"text/css\">*{stroke-linejoin: round; stroke-linecap: butt}</style>\n",
       " </defs>\n",
       " <g id=\"figure_1\">\n",
       "  <g id=\"patch_1\">\n",
       "   <path d=\"M 0 331.644625 \n",
       "L 461.319625 331.644625 \n",
       "L 461.319625 0 \n",
       "L 0 0 \n",
       "z\n",
       "\" style=\"fill: #f0f0f0\"/>\n",
       "  </g>\n",
       "  <g id=\"axes_1\">\n",
       "   <g id=\"patch_2\">\n",
       "    <path d=\"M 53.223625 287.136 \n",
       "L 454.119625 287.136 \n",
       "L 454.119625 7.2 \n",
       "L 53.223625 7.2 \n",
       "z\n",
       "\" style=\"fill: #f0f0f0\"/>\n",
       "   </g>\n",
       "   <g id=\"matplotlib.axis_1\">\n",
       "    <g id=\"xtick_1\">\n",
       "     <g id=\"line2d_1\">\n",
       "      <path d=\"M 71.44617 287.136 \n",
       "L 71.44617 7.2 \n",
       "\" clip-path=\"url(#pc262cd1242)\" style=\"fill: none; stroke: #cbcbcb\"/>\n",
       "     </g>\n",
       "     <g id=\"line2d_2\"/>\n",
       "     <g id=\"text_1\">\n",
       "      <!-- 3.0 -->\n",
       "      <g transform=\"translate(60.313983 301.273812) scale(0.14 -0.14)\">\n",
       "       <defs>\n",
       "        <path id=\"DejaVuSans-33\" d=\"M 2597 2516 \n",
       "Q 3050 2419 3304 2112 \n",
       "Q 3559 1806 3559 1356 \n",
       "Q 3559 666 3084 287 \n",
       "Q 2609 -91 1734 -91 \n",
       "Q 1441 -91 1130 -33 \n",
       "Q 819 25 488 141 \n",
       "L 488 750 \n",
       "Q 750 597 1062 519 \n",
       "Q 1375 441 1716 441 \n",
       "Q 2309 441 2620 675 \n",
       "Q 2931 909 2931 1356 \n",
       "Q 2931 1769 2642 2001 \n",
       "Q 2353 2234 1838 2234 \n",
       "L 1294 2234 \n",
       "L 1294 2753 \n",
       "L 1863 2753 \n",
       "Q 2328 2753 2575 2939 \n",
       "Q 2822 3125 2822 3475 \n",
       "Q 2822 3834 2567 4026 \n",
       "Q 2313 4219 1838 4219 \n",
       "Q 1578 4219 1281 4162 \n",
       "Q 984 4106 628 3988 \n",
       "L 628 4550 \n",
       "Q 988 4650 1302 4700 \n",
       "Q 1616 4750 1894 4750 \n",
       "Q 2613 4750 3031 4423 \n",
       "Q 3450 4097 3450 3541 \n",
       "Q 3450 3153 3228 2886 \n",
       "Q 3006 2619 2597 2516 \n",
       "z\n",
       "\" transform=\"scale(0.015625)\"/>\n",
       "        <path id=\"DejaVuSans-2e\" d=\"M 684 794 \n",
       "L 1344 794 \n",
       "L 1344 0 \n",
       "L 684 0 \n",
       "L 684 794 \n",
       "z\n",
       "\" transform=\"scale(0.015625)\"/>\n",
       "        <path id=\"DejaVuSans-30\" d=\"M 2034 4250 \n",
       "Q 1547 4250 1301 3770 \n",
       "Q 1056 3291 1056 2328 \n",
       "Q 1056 1369 1301 889 \n",
       "Q 1547 409 2034 409 \n",
       "Q 2525 409 2770 889 \n",
       "Q 3016 1369 3016 2328 \n",
       "Q 3016 3291 2770 3770 \n",
       "Q 2525 4250 2034 4250 \n",
       "z\n",
       "M 2034 4750 \n",
       "Q 2819 4750 3233 4129 \n",
       "Q 3647 3509 3647 2328 \n",
       "Q 3647 1150 3233 529 \n",
       "Q 2819 -91 2034 -91 \n",
       "Q 1250 -91 836 529 \n",
       "Q 422 1150 422 2328 \n",
       "Q 422 3509 836 4129 \n",
       "Q 1250 4750 2034 4750 \n",
       "z\n",
       "\" transform=\"scale(0.015625)\"/>\n",
       "       </defs>\n",
       "       <use xlink:href=\"#DejaVuSans-33\"/>\n",
       "       <use xlink:href=\"#DejaVuSans-2e\" x=\"63.623047\"/>\n",
       "       <use xlink:href=\"#DejaVuSans-30\" x=\"95.410156\"/>\n",
       "      </g>\n",
       "     </g>\n",
       "    </g>\n",
       "    <g id=\"xtick_2\">\n",
       "     <g id=\"line2d_3\">\n",
       "      <path d=\"M 132.187989 287.136 \n",
       "L 132.187989 7.2 \n",
       "\" clip-path=\"url(#pc262cd1242)\" style=\"fill: none; stroke: #cbcbcb\"/>\n",
       "     </g>\n",
       "     <g id=\"line2d_4\"/>\n",
       "     <g id=\"text_2\">\n",
       "      <!-- 3.5 -->\n",
       "      <g transform=\"translate(121.055801 301.273812) scale(0.14 -0.14)\">\n",
       "       <defs>\n",
       "        <path id=\"DejaVuSans-35\" d=\"M 691 4666 \n",
       "L 3169 4666 \n",
       "L 3169 4134 \n",
       "L 1269 4134 \n",
       "L 1269 2991 \n",
       "Q 1406 3038 1543 3061 \n",
       "Q 1681 3084 1819 3084 \n",
       "Q 2600 3084 3056 2656 \n",
       "Q 3513 2228 3513 1497 \n",
       "Q 3513 744 3044 326 \n",
       "Q 2575 -91 1722 -91 \n",
       "Q 1428 -91 1123 -41 \n",
       "Q 819 9 494 109 \n",
       "L 494 744 \n",
       "Q 775 591 1075 516 \n",
       "Q 1375 441 1709 441 \n",
       "Q 2250 441 2565 725 \n",
       "Q 2881 1009 2881 1497 \n",
       "Q 2881 1984 2565 2268 \n",
       "Q 2250 2553 1709 2553 \n",
       "Q 1456 2553 1204 2497 \n",
       "Q 953 2441 691 2322 \n",
       "L 691 4666 \n",
       "z\n",
       "\" transform=\"scale(0.015625)\"/>\n",
       "       </defs>\n",
       "       <use xlink:href=\"#DejaVuSans-33\"/>\n",
       "       <use xlink:href=\"#DejaVuSans-2e\" x=\"63.623047\"/>\n",
       "       <use xlink:href=\"#DejaVuSans-35\" x=\"95.410156\"/>\n",
       "      </g>\n",
       "     </g>\n",
       "    </g>\n",
       "    <g id=\"xtick_3\">\n",
       "     <g id=\"line2d_5\">\n",
       "      <path d=\"M 192.929807 287.136 \n",
       "L 192.929807 7.2 \n",
       "\" clip-path=\"url(#pc262cd1242)\" style=\"fill: none; stroke: #cbcbcb\"/>\n",
       "     </g>\n",
       "     <g id=\"line2d_6\"/>\n",
       "     <g id=\"text_3\">\n",
       "      <!-- 4.0 -->\n",
       "      <g transform=\"translate(181.797619 301.273812) scale(0.14 -0.14)\">\n",
       "       <defs>\n",
       "        <path id=\"DejaVuSans-34\" d=\"M 2419 4116 \n",
       "L 825 1625 \n",
       "L 2419 1625 \n",
       "L 2419 4116 \n",
       "z\n",
       "M 2253 4666 \n",
       "L 3047 4666 \n",
       "L 3047 1625 \n",
       "L 3713 1625 \n",
       "L 3713 1100 \n",
       "L 3047 1100 \n",
       "L 3047 0 \n",
       "L 2419 0 \n",
       "L 2419 1100 \n",
       "L 313 1100 \n",
       "L 313 1709 \n",
       "L 2253 4666 \n",
       "z\n",
       "\" transform=\"scale(0.015625)\"/>\n",
       "       </defs>\n",
       "       <use xlink:href=\"#DejaVuSans-34\"/>\n",
       "       <use xlink:href=\"#DejaVuSans-2e\" x=\"63.623047\"/>\n",
       "       <use xlink:href=\"#DejaVuSans-30\" x=\"95.410156\"/>\n",
       "      </g>\n",
       "     </g>\n",
       "    </g>\n",
       "    <g id=\"xtick_4\">\n",
       "     <g id=\"line2d_7\">\n",
       "      <path d=\"M 253.671625 287.136 \n",
       "L 253.671625 7.2 \n",
       "\" clip-path=\"url(#pc262cd1242)\" style=\"fill: none; stroke: #cbcbcb\"/>\n",
       "     </g>\n",
       "     <g id=\"line2d_8\"/>\n",
       "     <g id=\"text_4\">\n",
       "      <!-- 4.5 -->\n",
       "      <g transform=\"translate(242.539437 301.273812) scale(0.14 -0.14)\">\n",
       "       <use xlink:href=\"#DejaVuSans-34\"/>\n",
       "       <use xlink:href=\"#DejaVuSans-2e\" x=\"63.623047\"/>\n",
       "       <use xlink:href=\"#DejaVuSans-35\" x=\"95.410156\"/>\n",
       "      </g>\n",
       "     </g>\n",
       "    </g>\n",
       "    <g id=\"xtick_5\">\n",
       "     <g id=\"line2d_9\">\n",
       "      <path d=\"M 314.413443 287.136 \n",
       "L 314.413443 7.2 \n",
       "\" clip-path=\"url(#pc262cd1242)\" style=\"fill: none; stroke: #cbcbcb\"/>\n",
       "     </g>\n",
       "     <g id=\"line2d_10\"/>\n",
       "     <g id=\"text_5\">\n",
       "      <!-- 5.0 -->\n",
       "      <g transform=\"translate(303.281256 301.273812) scale(0.14 -0.14)\">\n",
       "       <use xlink:href=\"#DejaVuSans-35\"/>\n",
       "       <use xlink:href=\"#DejaVuSans-2e\" x=\"63.623047\"/>\n",
       "       <use xlink:href=\"#DejaVuSans-30\" x=\"95.410156\"/>\n",
       "      </g>\n",
       "     </g>\n",
       "    </g>\n",
       "    <g id=\"xtick_6\">\n",
       "     <g id=\"line2d_11\">\n",
       "      <path d=\"M 375.155261 287.136 \n",
       "L 375.155261 7.2 \n",
       "\" clip-path=\"url(#pc262cd1242)\" style=\"fill: none; stroke: #cbcbcb\"/>\n",
       "     </g>\n",
       "     <g id=\"line2d_12\"/>\n",
       "     <g id=\"text_6\">\n",
       "      <!-- 5.5 -->\n",
       "      <g transform=\"translate(364.023074 301.273812) scale(0.14 -0.14)\">\n",
       "       <use xlink:href=\"#DejaVuSans-35\"/>\n",
       "       <use xlink:href=\"#DejaVuSans-2e\" x=\"63.623047\"/>\n",
       "       <use xlink:href=\"#DejaVuSans-35\" x=\"95.410156\"/>\n",
       "      </g>\n",
       "     </g>\n",
       "    </g>\n",
       "    <g id=\"xtick_7\">\n",
       "     <g id=\"line2d_13\">\n",
       "      <path d=\"M 435.89708 287.136 \n",
       "L 435.89708 7.2 \n",
       "\" clip-path=\"url(#pc262cd1242)\" style=\"fill: none; stroke: #cbcbcb\"/>\n",
       "     </g>\n",
       "     <g id=\"line2d_14\"/>\n",
       "     <g id=\"text_7\">\n",
       "      <!-- 6.0 -->\n",
       "      <g transform=\"translate(424.764892 301.273812) scale(0.14 -0.14)\">\n",
       "       <defs>\n",
       "        <path id=\"DejaVuSans-36\" d=\"M 2113 2584 \n",
       "Q 1688 2584 1439 2293 \n",
       "Q 1191 2003 1191 1497 \n",
       "Q 1191 994 1439 701 \n",
       "Q 1688 409 2113 409 \n",
       "Q 2538 409 2786 701 \n",
       "Q 3034 994 3034 1497 \n",
       "Q 3034 2003 2786 2293 \n",
       "Q 2538 2584 2113 2584 \n",
       "z\n",
       "M 3366 4563 \n",
       "L 3366 3988 \n",
       "Q 3128 4100 2886 4159 \n",
       "Q 2644 4219 2406 4219 \n",
       "Q 1781 4219 1451 3797 \n",
       "Q 1122 3375 1075 2522 \n",
       "Q 1259 2794 1537 2939 \n",
       "Q 1816 3084 2150 3084 \n",
       "Q 2853 3084 3261 2657 \n",
       "Q 3669 2231 3669 1497 \n",
       "Q 3669 778 3244 343 \n",
       "Q 2819 -91 2113 -91 \n",
       "Q 1303 -91 875 529 \n",
       "Q 447 1150 447 2328 \n",
       "Q 447 3434 972 4092 \n",
       "Q 1497 4750 2381 4750 \n",
       "Q 2619 4750 2861 4703 \n",
       "Q 3103 4656 3366 4563 \n",
       "z\n",
       "\" transform=\"scale(0.015625)\"/>\n",
       "       </defs>\n",
       "       <use xlink:href=\"#DejaVuSans-36\"/>\n",
       "       <use xlink:href=\"#DejaVuSans-2e\" x=\"63.623047\"/>\n",
       "       <use xlink:href=\"#DejaVuSans-30\" x=\"95.410156\"/>\n",
       "      </g>\n",
       "     </g>\n",
       "    </g>\n",
       "    <g id=\"text_8\">\n",
       "     <!-- Количество комнат -->\n",
       "     <g transform=\"translate(167.254 320.95075) scale(0.168 -0.168)\">\n",
       "      <defs>\n",
       "       <path id=\"DejaVuSans-41a\" d=\"M 628 4666 \n",
       "L 1259 4666 \n",
       "L 1259 2359 \n",
       "L 3516 4666 \n",
       "L 4325 4666 \n",
       "L 2522 2822 \n",
       "L 4419 0 \n",
       "L 3731 0 \n",
       "L 2113 2403 \n",
       "L 1259 1531 \n",
       "L 1259 0 \n",
       "L 628 0 \n",
       "L 628 4666 \n",
       "z\n",
       "\" transform=\"scale(0.015625)\"/>\n",
       "       <path id=\"DejaVuSans-43e\" d=\"M 1959 3097 \n",
       "Q 1497 3097 1228 2736 \n",
       "Q 959 2375 959 1747 \n",
       "Q 959 1119 1226 758 \n",
       "Q 1494 397 1959 397 \n",
       "Q 2419 397 2687 759 \n",
       "Q 2956 1122 2956 1747 \n",
       "Q 2956 2369 2687 2733 \n",
       "Q 2419 3097 1959 3097 \n",
       "z\n",
       "M 1959 3584 \n",
       "Q 2709 3584 3137 3096 \n",
       "Q 3566 2609 3566 1747 \n",
       "Q 3566 888 3137 398 \n",
       "Q 2709 -91 1959 -91 \n",
       "Q 1206 -91 779 398 \n",
       "Q 353 888 353 1747 \n",
       "Q 353 2609 779 3096 \n",
       "Q 1206 3584 1959 3584 \n",
       "z\n",
       "\" transform=\"scale(0.015625)\"/>\n",
       "       <path id=\"DejaVuSans-43b\" d=\"M 238 0 \n",
       "L 238 478 \n",
       "Q 806 566 981 959 \n",
       "Q 1194 1513 1194 2928 \n",
       "L 1194 3500 \n",
       "L 3559 3500 \n",
       "L 3559 0 \n",
       "L 2984 0 \n",
       "L 2984 3041 \n",
       "L 1769 3041 \n",
       "L 1769 2694 \n",
       "Q 1769 1344 1494 738 \n",
       "Q 1200 91 238 0 \n",
       "z\n",
       "\" transform=\"scale(0.015625)\"/>\n",
       "       <path id=\"DejaVuSans-438\" d=\"M 3578 3500 \n",
       "L 3578 0 \n",
       "L 3006 0 \n",
       "L 3006 2809 \n",
       "L 1319 0 \n",
       "L 581 0 \n",
       "L 581 3500 \n",
       "L 1153 3500 \n",
       "L 1153 697 \n",
       "L 2838 3500 \n",
       "L 3578 3500 \n",
       "z\n",
       "\" transform=\"scale(0.015625)\"/>\n",
       "       <path id=\"DejaVuSans-447\" d=\"M 2625 0 \n",
       "L 2625 1472 \n",
       "L 1553 1472 \n",
       "Q 1075 1472 756 1769 \n",
       "Q 469 2038 469 2613 \n",
       "L 469 3500 \n",
       "L 1044 3500 \n",
       "L 1044 2666 \n",
       "Q 1044 2300 1206 2116 \n",
       "Q 1372 1931 1697 1931 \n",
       "L 2625 1931 \n",
       "L 2625 3500 \n",
       "L 3200 3500 \n",
       "L 3200 0 \n",
       "L 2625 0 \n",
       "z\n",
       "\" transform=\"scale(0.015625)\"/>\n",
       "       <path id=\"DejaVuSans-435\" d=\"M 3597 1894 \n",
       "L 3597 1613 \n",
       "L 953 1613 \n",
       "Q 991 1019 1311 708 \n",
       "Q 1631 397 2203 397 \n",
       "Q 2534 397 2845 478 \n",
       "Q 3156 559 3463 722 \n",
       "L 3463 178 \n",
       "Q 3153 47 2828 -22 \n",
       "Q 2503 -91 2169 -91 \n",
       "Q 1331 -91 842 396 \n",
       "Q 353 884 353 1716 \n",
       "Q 353 2575 817 3079 \n",
       "Q 1281 3584 2069 3584 \n",
       "Q 2775 3584 3186 3129 \n",
       "Q 3597 2675 3597 1894 \n",
       "z\n",
       "M 3022 2063 \n",
       "Q 3016 2534 2758 2815 \n",
       "Q 2500 3097 2075 3097 \n",
       "Q 1594 3097 1305 2825 \n",
       "Q 1016 2553 972 2059 \n",
       "L 3022 2063 \n",
       "z\n",
       "\" transform=\"scale(0.015625)\"/>\n",
       "       <path id=\"DejaVuSans-441\" d=\"M 3122 3366 \n",
       "L 3122 2828 \n",
       "Q 2878 2963 2633 3030 \n",
       "Q 2388 3097 2138 3097 \n",
       "Q 1578 3097 1268 2742 \n",
       "Q 959 2388 959 1747 \n",
       "Q 959 1106 1268 751 \n",
       "Q 1578 397 2138 397 \n",
       "Q 2388 397 2633 464 \n",
       "Q 2878 531 3122 666 \n",
       "L 3122 134 \n",
       "Q 2881 22 2623 -34 \n",
       "Q 2366 -91 2075 -91 \n",
       "Q 1284 -91 818 406 \n",
       "Q 353 903 353 1747 \n",
       "Q 353 2603 823 3093 \n",
       "Q 1294 3584 2113 3584 \n",
       "Q 2378 3584 2631 3529 \n",
       "Q 2884 3475 3122 3366 \n",
       "z\n",
       "\" transform=\"scale(0.015625)\"/>\n",
       "       <path id=\"DejaVuSans-442\" d=\"M 188 3500 \n",
       "L 3541 3500 \n",
       "L 3541 3041 \n",
       "L 2147 3041 \n",
       "L 2147 0 \n",
       "L 1581 0 \n",
       "L 1581 3041 \n",
       "L 188 3041 \n",
       "L 188 3500 \n",
       "z\n",
       "\" transform=\"scale(0.015625)\"/>\n",
       "       <path id=\"DejaVuSans-432\" d=\"M 1156 1613 \n",
       "L 1156 459 \n",
       "L 1975 459 \n",
       "Q 2369 459 2575 607 \n",
       "Q 2781 756 2781 1038 \n",
       "Q 2781 1319 2575 1466 \n",
       "Q 2369 1613 1975 1613 \n",
       "L 1156 1613 \n",
       "z\n",
       "M 1156 3041 \n",
       "L 1156 2072 \n",
       "L 1913 2072 \n",
       "Q 2238 2072 2444 2201 \n",
       "Q 2650 2331 2650 2563 \n",
       "Q 2650 2794 2444 2917 \n",
       "Q 2238 3041 1913 3041 \n",
       "L 1156 3041 \n",
       "z\n",
       "M 581 3500 \n",
       "L 1950 3500 \n",
       "Q 2566 3500 2897 3275 \n",
       "Q 3228 3050 3228 2634 \n",
       "Q 3228 2313 3059 2123 \n",
       "Q 2891 1934 2559 1888 \n",
       "Q 2956 1813 3175 1575 \n",
       "Q 3394 1338 3394 981 \n",
       "Q 3394 513 3033 256 \n",
       "Q 2672 0 2003 0 \n",
       "L 581 0 \n",
       "L 581 3500 \n",
       "z\n",
       "\" transform=\"scale(0.015625)\"/>\n",
       "       <path id=\"DejaVuSans-20\" transform=\"scale(0.015625)\"/>\n",
       "       <path id=\"DejaVuSans-43a\" d=\"M 581 3500 \n",
       "L 1153 3500 \n",
       "L 1153 1856 \n",
       "L 2775 3500 \n",
       "L 3481 3500 \n",
       "L 2144 2147 \n",
       "L 3653 0 \n",
       "L 3009 0 \n",
       "L 1769 1766 \n",
       "L 1153 1141 \n",
       "L 1153 0 \n",
       "L 581 0 \n",
       "L 581 3500 \n",
       "z\n",
       "\" transform=\"scale(0.015625)\"/>\n",
       "       <path id=\"DejaVuSans-43c\" d=\"M 581 3500 \n",
       "L 1422 3500 \n",
       "L 2416 1156 \n",
       "L 3413 3500 \n",
       "L 4247 3500 \n",
       "L 4247 0 \n",
       "L 3669 0 \n",
       "L 3669 2950 \n",
       "L 2703 672 \n",
       "L 2128 672 \n",
       "L 1159 2950 \n",
       "L 1159 0 \n",
       "L 581 0 \n",
       "L 581 3500 \n",
       "z\n",
       "\" transform=\"scale(0.015625)\"/>\n",
       "       <path id=\"DejaVuSans-43d\" d=\"M 581 3500 \n",
       "L 1159 3500 \n",
       "L 1159 2072 \n",
       "L 3025 2072 \n",
       "L 3025 3500 \n",
       "L 3603 3500 \n",
       "L 3603 0 \n",
       "L 3025 0 \n",
       "L 3025 1613 \n",
       "L 1159 1613 \n",
       "L 1159 0 \n",
       "L 581 0 \n",
       "L 581 3500 \n",
       "z\n",
       "\" transform=\"scale(0.015625)\"/>\n",
       "       <path id=\"DejaVuSans-430\" d=\"M 2194 1759 \n",
       "Q 1497 1759 1228 1600 \n",
       "Q 959 1441 959 1056 \n",
       "Q 959 750 1161 570 \n",
       "Q 1363 391 1709 391 \n",
       "Q 2188 391 2477 730 \n",
       "Q 2766 1069 2766 1631 \n",
       "L 2766 1759 \n",
       "L 2194 1759 \n",
       "z\n",
       "M 3341 1997 \n",
       "L 3341 0 \n",
       "L 2766 0 \n",
       "L 2766 531 \n",
       "Q 2569 213 2275 61 \n",
       "Q 1981 -91 1556 -91 \n",
       "Q 1019 -91 701 211 \n",
       "Q 384 513 384 1019 \n",
       "Q 384 1609 779 1909 \n",
       "Q 1175 2209 1959 2209 \n",
       "L 2766 2209 \n",
       "L 2766 2266 \n",
       "Q 2766 2663 2505 2880 \n",
       "Q 2244 3097 1772 3097 \n",
       "Q 1472 3097 1187 3025 \n",
       "Q 903 2953 641 2809 \n",
       "L 641 3341 \n",
       "Q 956 3463 1253 3523 \n",
       "Q 1550 3584 1831 3584 \n",
       "Q 2591 3584 2966 3190 \n",
       "Q 3341 2797 3341 1997 \n",
       "z\n",
       "\" transform=\"scale(0.015625)\"/>\n",
       "      </defs>\n",
       "      <use xlink:href=\"#DejaVuSans-41a\"/>\n",
       "      <use xlink:href=\"#DejaVuSans-43e\" x=\"70.996094\"/>\n",
       "      <use xlink:href=\"#DejaVuSans-43b\" x=\"132.177734\"/>\n",
       "      <use xlink:href=\"#DejaVuSans-438\" x=\"196.09375\"/>\n",
       "      <use xlink:href=\"#DejaVuSans-447\" x=\"261.083984\"/>\n",
       "      <use xlink:href=\"#DejaVuSans-435\" x=\"320.166016\"/>\n",
       "      <use xlink:href=\"#DejaVuSans-441\" x=\"381.689453\"/>\n",
       "      <use xlink:href=\"#DejaVuSans-442\" x=\"436.669922\"/>\n",
       "      <use xlink:href=\"#DejaVuSans-432\" x=\"494.921875\"/>\n",
       "      <use xlink:href=\"#DejaVuSans-43e\" x=\"553.857422\"/>\n",
       "      <use xlink:href=\"#DejaVuSans-20\" x=\"615.039062\"/>\n",
       "      <use xlink:href=\"#DejaVuSans-43a\" x=\"646.826172\"/>\n",
       "      <use xlink:href=\"#DejaVuSans-43e\" x=\"707.226562\"/>\n",
       "      <use xlink:href=\"#DejaVuSans-43c\" x=\"768.408203\"/>\n",
       "      <use xlink:href=\"#DejaVuSans-43d\" x=\"843.847656\"/>\n",
       "      <use xlink:href=\"#DejaVuSans-430\" x=\"909.228516\"/>\n",
       "      <use xlink:href=\"#DejaVuSans-442\" x=\"970.507812\"/>\n",
       "     </g>\n",
       "    </g>\n",
       "   </g>\n",
       "   <g id=\"matplotlib.axis_2\">\n",
       "    <g id=\"ytick_1\">\n",
       "     <g id=\"line2d_15\">\n",
       "      <path d=\"M 53.223625 274.411636 \n",
       "L 454.119625 274.411636 \n",
       "\" clip-path=\"url(#pc262cd1242)\" style=\"fill: none; stroke: #cbcbcb\"/>\n",
       "     </g>\n",
       "     <g id=\"line2d_16\"/>\n",
       "     <g id=\"text_9\">\n",
       "      <!-- 1.1 -->\n",
       "      <g transform=\"translate(27.45925 279.730543) scale(0.14 -0.14)\">\n",
       "       <defs>\n",
       "        <path id=\"DejaVuSans-31\" d=\"M 794 531 \n",
       "L 1825 531 \n",
       "L 1825 4091 \n",
       "L 703 3866 \n",
       "L 703 4441 \n",
       "L 1819 4666 \n",
       "L 2450 4666 \n",
       "L 2450 531 \n",
       "L 3481 531 \n",
       "L 3481 0 \n",
       "L 794 0 \n",
       "L 794 531 \n",
       "z\n",
       "\" transform=\"scale(0.015625)\"/>\n",
       "       </defs>\n",
       "       <use xlink:href=\"#DejaVuSans-31\"/>\n",
       "       <use xlink:href=\"#DejaVuSans-2e\" x=\"63.623047\"/>\n",
       "       <use xlink:href=\"#DejaVuSans-31\" x=\"95.410156\"/>\n",
       "      </g>\n",
       "     </g>\n",
       "    </g>\n",
       "    <g id=\"ytick_2\">\n",
       "     <g id=\"line2d_17\">\n",
       "      <path d=\"M 53.223625 242.600727 \n",
       "L 454.119625 242.600727 \n",
       "\" clip-path=\"url(#pc262cd1242)\" style=\"fill: none; stroke: #cbcbcb\"/>\n",
       "     </g>\n",
       "     <g id=\"line2d_18\"/>\n",
       "     <g id=\"text_10\">\n",
       "      <!-- 1.2 -->\n",
       "      <g transform=\"translate(27.45925 247.919634) scale(0.14 -0.14)\">\n",
       "       <defs>\n",
       "        <path id=\"DejaVuSans-32\" d=\"M 1228 531 \n",
       "L 3431 531 \n",
       "L 3431 0 \n",
       "L 469 0 \n",
       "L 469 531 \n",
       "Q 828 903 1448 1529 \n",
       "Q 2069 2156 2228 2338 \n",
       "Q 2531 2678 2651 2914 \n",
       "Q 2772 3150 2772 3378 \n",
       "Q 2772 3750 2511 3984 \n",
       "Q 2250 4219 1831 4219 \n",
       "Q 1534 4219 1204 4116 \n",
       "Q 875 4013 500 3803 \n",
       "L 500 4441 \n",
       "Q 881 4594 1212 4672 \n",
       "Q 1544 4750 1819 4750 \n",
       "Q 2544 4750 2975 4387 \n",
       "Q 3406 4025 3406 3419 \n",
       "Q 3406 3131 3298 2873 \n",
       "Q 3191 2616 2906 2266 \n",
       "Q 2828 2175 2409 1742 \n",
       "Q 1991 1309 1228 531 \n",
       "z\n",
       "\" transform=\"scale(0.015625)\"/>\n",
       "       </defs>\n",
       "       <use xlink:href=\"#DejaVuSans-31\"/>\n",
       "       <use xlink:href=\"#DejaVuSans-2e\" x=\"63.623047\"/>\n",
       "       <use xlink:href=\"#DejaVuSans-32\" x=\"95.410156\"/>\n",
       "      </g>\n",
       "     </g>\n",
       "    </g>\n",
       "    <g id=\"ytick_3\">\n",
       "     <g id=\"line2d_19\">\n",
       "      <path d=\"M 53.223625 210.789818 \n",
       "L 454.119625 210.789818 \n",
       "\" clip-path=\"url(#pc262cd1242)\" style=\"fill: none; stroke: #cbcbcb\"/>\n",
       "     </g>\n",
       "     <g id=\"line2d_20\"/>\n",
       "     <g id=\"text_11\">\n",
       "      <!-- 1.3 -->\n",
       "      <g transform=\"translate(27.45925 216.108724) scale(0.14 -0.14)\">\n",
       "       <use xlink:href=\"#DejaVuSans-31\"/>\n",
       "       <use xlink:href=\"#DejaVuSans-2e\" x=\"63.623047\"/>\n",
       "       <use xlink:href=\"#DejaVuSans-33\" x=\"95.410156\"/>\n",
       "      </g>\n",
       "     </g>\n",
       "    </g>\n",
       "    <g id=\"ytick_4\">\n",
       "     <g id=\"line2d_21\">\n",
       "      <path d=\"M 53.223625 178.978909 \n",
       "L 454.119625 178.978909 \n",
       "\" clip-path=\"url(#pc262cd1242)\" style=\"fill: none; stroke: #cbcbcb\"/>\n",
       "     </g>\n",
       "     <g id=\"line2d_22\"/>\n",
       "     <g id=\"text_12\">\n",
       "      <!-- 1.4 -->\n",
       "      <g transform=\"translate(27.45925 184.297815) scale(0.14 -0.14)\">\n",
       "       <use xlink:href=\"#DejaVuSans-31\"/>\n",
       "       <use xlink:href=\"#DejaVuSans-2e\" x=\"63.623047\"/>\n",
       "       <use xlink:href=\"#DejaVuSans-34\" x=\"95.410156\"/>\n",
       "      </g>\n",
       "     </g>\n",
       "    </g>\n",
       "    <g id=\"ytick_5\">\n",
       "     <g id=\"line2d_23\">\n",
       "      <path d=\"M 53.223625 147.168 \n",
       "L 454.119625 147.168 \n",
       "\" clip-path=\"url(#pc262cd1242)\" style=\"fill: none; stroke: #cbcbcb\"/>\n",
       "     </g>\n",
       "     <g id=\"line2d_24\"/>\n",
       "     <g id=\"text_13\">\n",
       "      <!-- 1.5 -->\n",
       "      <g transform=\"translate(27.45925 152.486906) scale(0.14 -0.14)\">\n",
       "       <use xlink:href=\"#DejaVuSans-31\"/>\n",
       "       <use xlink:href=\"#DejaVuSans-2e\" x=\"63.623047\"/>\n",
       "       <use xlink:href=\"#DejaVuSans-35\" x=\"95.410156\"/>\n",
       "      </g>\n",
       "     </g>\n",
       "    </g>\n",
       "    <g id=\"ytick_6\">\n",
       "     <g id=\"line2d_25\">\n",
       "      <path d=\"M 53.223625 115.357091 \n",
       "L 454.119625 115.357091 \n",
       "\" clip-path=\"url(#pc262cd1242)\" style=\"fill: none; stroke: #cbcbcb\"/>\n",
       "     </g>\n",
       "     <g id=\"line2d_26\"/>\n",
       "     <g id=\"text_14\">\n",
       "      <!-- 1.6 -->\n",
       "      <g transform=\"translate(27.45925 120.675997) scale(0.14 -0.14)\">\n",
       "       <use xlink:href=\"#DejaVuSans-31\"/>\n",
       "       <use xlink:href=\"#DejaVuSans-2e\" x=\"63.623047\"/>\n",
       "       <use xlink:href=\"#DejaVuSans-36\" x=\"95.410156\"/>\n",
       "      </g>\n",
       "     </g>\n",
       "    </g>\n",
       "    <g id=\"ytick_7\">\n",
       "     <g id=\"line2d_27\">\n",
       "      <path d=\"M 53.223625 83.546182 \n",
       "L 454.119625 83.546182 \n",
       "\" clip-path=\"url(#pc262cd1242)\" style=\"fill: none; stroke: #cbcbcb\"/>\n",
       "     </g>\n",
       "     <g id=\"line2d_28\"/>\n",
       "     <g id=\"text_15\">\n",
       "      <!-- 1.7 -->\n",
       "      <g transform=\"translate(27.45925 88.865088) scale(0.14 -0.14)\">\n",
       "       <defs>\n",
       "        <path id=\"DejaVuSans-37\" d=\"M 525 4666 \n",
       "L 3525 4666 \n",
       "L 3525 4397 \n",
       "L 1831 0 \n",
       "L 1172 0 \n",
       "L 2766 4134 \n",
       "L 525 4134 \n",
       "L 525 4666 \n",
       "z\n",
       "\" transform=\"scale(0.015625)\"/>\n",
       "       </defs>\n",
       "       <use xlink:href=\"#DejaVuSans-31\"/>\n",
       "       <use xlink:href=\"#DejaVuSans-2e\" x=\"63.623047\"/>\n",
       "       <use xlink:href=\"#DejaVuSans-37\" x=\"95.410156\"/>\n",
       "      </g>\n",
       "     </g>\n",
       "    </g>\n",
       "    <g id=\"ytick_8\">\n",
       "     <g id=\"line2d_29\">\n",
       "      <path d=\"M 53.223625 51.735273 \n",
       "L 454.119625 51.735273 \n",
       "\" clip-path=\"url(#pc262cd1242)\" style=\"fill: none; stroke: #cbcbcb\"/>\n",
       "     </g>\n",
       "     <g id=\"line2d_30\"/>\n",
       "     <g id=\"text_16\">\n",
       "      <!-- 1.8 -->\n",
       "      <g transform=\"translate(27.45925 57.054179) scale(0.14 -0.14)\">\n",
       "       <defs>\n",
       "        <path id=\"DejaVuSans-38\" d=\"M 2034 2216 \n",
       "Q 1584 2216 1326 1975 \n",
       "Q 1069 1734 1069 1313 \n",
       "Q 1069 891 1326 650 \n",
       "Q 1584 409 2034 409 \n",
       "Q 2484 409 2743 651 \n",
       "Q 3003 894 3003 1313 \n",
       "Q 3003 1734 2745 1975 \n",
       "Q 2488 2216 2034 2216 \n",
       "z\n",
       "M 1403 2484 \n",
       "Q 997 2584 770 2862 \n",
       "Q 544 3141 544 3541 \n",
       "Q 544 4100 942 4425 \n",
       "Q 1341 4750 2034 4750 \n",
       "Q 2731 4750 3128 4425 \n",
       "Q 3525 4100 3525 3541 \n",
       "Q 3525 3141 3298 2862 \n",
       "Q 3072 2584 2669 2484 \n",
       "Q 3125 2378 3379 2068 \n",
       "Q 3634 1759 3634 1313 \n",
       "Q 3634 634 3220 271 \n",
       "Q 2806 -91 2034 -91 \n",
       "Q 1263 -91 848 271 \n",
       "Q 434 634 434 1313 \n",
       "Q 434 1759 690 2068 \n",
       "Q 947 2378 1403 2484 \n",
       "z\n",
       "M 1172 3481 \n",
       "Q 1172 3119 1398 2916 \n",
       "Q 1625 2713 2034 2713 \n",
       "Q 2441 2713 2670 2916 \n",
       "Q 2900 3119 2900 3481 \n",
       "Q 2900 3844 2670 4047 \n",
       "Q 2441 4250 2034 4250 \n",
       "Q 1625 4250 1398 4047 \n",
       "Q 1172 3844 1172 3481 \n",
       "z\n",
       "\" transform=\"scale(0.015625)\"/>\n",
       "       </defs>\n",
       "       <use xlink:href=\"#DejaVuSans-31\"/>\n",
       "       <use xlink:href=\"#DejaVuSans-2e\" x=\"63.623047\"/>\n",
       "       <use xlink:href=\"#DejaVuSans-38\" x=\"95.410156\"/>\n",
       "      </g>\n",
       "     </g>\n",
       "    </g>\n",
       "    <g id=\"ytick_9\">\n",
       "     <g id=\"line2d_31\">\n",
       "      <path d=\"M 53.223625 19.924364 \n",
       "L 454.119625 19.924364 \n",
       "\" clip-path=\"url(#pc262cd1242)\" style=\"fill: none; stroke: #cbcbcb\"/>\n",
       "     </g>\n",
       "     <g id=\"line2d_32\"/>\n",
       "     <g id=\"text_17\">\n",
       "      <!-- 1.9 -->\n",
       "      <g transform=\"translate(27.45925 25.24327) scale(0.14 -0.14)\">\n",
       "       <defs>\n",
       "        <path id=\"DejaVuSans-39\" d=\"M 703 97 \n",
       "L 703 672 \n",
       "Q 941 559 1184 500 \n",
       "Q 1428 441 1663 441 \n",
       "Q 2288 441 2617 861 \n",
       "Q 2947 1281 2994 2138 \n",
       "Q 2813 1869 2534 1725 \n",
       "Q 2256 1581 1919 1581 \n",
       "Q 1219 1581 811 2004 \n",
       "Q 403 2428 403 3163 \n",
       "Q 403 3881 828 4315 \n",
       "Q 1253 4750 1959 4750 \n",
       "Q 2769 4750 3195 4129 \n",
       "Q 3622 3509 3622 2328 \n",
       "Q 3622 1225 3098 567 \n",
       "Q 2575 -91 1691 -91 \n",
       "Q 1453 -91 1209 -44 \n",
       "Q 966 3 703 97 \n",
       "z\n",
       "M 1959 2075 \n",
       "Q 2384 2075 2632 2365 \n",
       "Q 2881 2656 2881 3163 \n",
       "Q 2881 3666 2632 3958 \n",
       "Q 2384 4250 1959 4250 \n",
       "Q 1534 4250 1286 3958 \n",
       "Q 1038 3666 1038 3163 \n",
       "Q 1038 2656 1286 2365 \n",
       "Q 1534 2075 1959 2075 \n",
       "z\n",
       "\" transform=\"scale(0.015625)\"/>\n",
       "       </defs>\n",
       "       <use xlink:href=\"#DejaVuSans-31\"/>\n",
       "       <use xlink:href=\"#DejaVuSans-2e\" x=\"63.623047\"/>\n",
       "       <use xlink:href=\"#DejaVuSans-39\" x=\"95.410156\"/>\n",
       "      </g>\n",
       "     </g>\n",
       "    </g>\n",
       "    <g id=\"text_18\">\n",
       "     <!-- Площадь дома -->\n",
       "     <g transform=\"translate(19.965375 212.91375) rotate(-90) scale(0.168 -0.168)\">\n",
       "      <defs>\n",
       "       <path id=\"DejaVuSans-41f\" d=\"M 4184 4666 \n",
       "L 4184 0 \n",
       "L 3553 0 \n",
       "L 3553 4134 \n",
       "L 1259 4134 \n",
       "L 1259 0 \n",
       "L 628 0 \n",
       "L 628 4666 \n",
       "L 4184 4666 \n",
       "z\n",
       "\" transform=\"scale(0.015625)\"/>\n",
       "       <path id=\"DejaVuSans-449\" d=\"M 5275 0 \n",
       "L 581 0 \n",
       "L 581 3500 \n",
       "L 1159 3500 \n",
       "L 1159 459 \n",
       "L 2638 459 \n",
       "L 2638 3500 \n",
       "L 3216 3500 \n",
       "L 3216 459 \n",
       "L 4697 459 \n",
       "L 4697 3500 \n",
       "L 5275 3500 \n",
       "L 5275 459 \n",
       "L 5734 459 \n",
       "L 5734 -884 \n",
       "L 5275 -884 \n",
       "L 5275 0 \n",
       "z\n",
       "\" transform=\"scale(0.015625)\"/>\n",
       "       <path id=\"DejaVuSans-434\" d=\"M 1384 459 \n",
       "L 3053 459 \n",
       "L 3053 3041 \n",
       "L 1844 3041 \n",
       "L 1844 2603 \n",
       "Q 1844 1316 1475 628 \n",
       "L 1384 459 \n",
       "z\n",
       "M 550 459 \n",
       "Q 834 584 959 850 \n",
       "Q 1266 1509 1266 2838 \n",
       "L 1266 3500 \n",
       "L 3631 3500 \n",
       "L 3631 459 \n",
       "L 4091 459 \n",
       "L 4091 -884 \n",
       "L 3631 -884 \n",
       "L 3631 0 \n",
       "L 794 0 \n",
       "L 794 -884 \n",
       "L 334 -884 \n",
       "L 334 459 \n",
       "L 550 459 \n",
       "z\n",
       "\" transform=\"scale(0.015625)\"/>\n",
       "       <path id=\"DejaVuSans-44c\" d=\"M 2781 1038 \n",
       "Q 2781 1319 2576 1466 \n",
       "Q 2372 1613 1978 1613 \n",
       "L 1159 1613 \n",
       "L 1159 459 \n",
       "L 1978 459 \n",
       "Q 2372 459 2576 607 \n",
       "Q 2781 756 2781 1038 \n",
       "z\n",
       "M 581 3500 \n",
       "L 1159 3500 \n",
       "L 1159 2072 \n",
       "L 2003 2072 \n",
       "Q 2672 2072 3033 1817 \n",
       "Q 3394 1563 3394 1038 \n",
       "Q 3394 513 3033 256 \n",
       "Q 2672 0 2003 0 \n",
       "L 581 0 \n",
       "L 581 3500 \n",
       "z\n",
       "\" transform=\"scale(0.015625)\"/>\n",
       "      </defs>\n",
       "      <use xlink:href=\"#DejaVuSans-41f\"/>\n",
       "      <use xlink:href=\"#DejaVuSans-43b\" x=\"75.195312\"/>\n",
       "      <use xlink:href=\"#DejaVuSans-43e\" x=\"139.111328\"/>\n",
       "      <use xlink:href=\"#DejaVuSans-449\" x=\"200.292969\"/>\n",
       "      <use xlink:href=\"#DejaVuSans-430\" x=\"294.482422\"/>\n",
       "      <use xlink:href=\"#DejaVuSans-434\" x=\"355.761719\"/>\n",
       "      <use xlink:href=\"#DejaVuSans-44c\" x=\"424.902344\"/>\n",
       "      <use xlink:href=\"#DejaVuSans-20\" x=\"483.837891\"/>\n",
       "      <use xlink:href=\"#DejaVuSans-434\" x=\"515.625\"/>\n",
       "      <use xlink:href=\"#DejaVuSans-43e\" x=\"584.765625\"/>\n",
       "      <use xlink:href=\"#DejaVuSans-43c\" x=\"645.947266\"/>\n",
       "      <use xlink:href=\"#DejaVuSans-430\" x=\"721.386719\"/>\n",
       "     </g>\n",
       "    </g>\n",
       "   </g>\n",
       "   <g id=\"PathCollection_1\">\n",
       "    <defs>\n",
       "     <path id=\"m657d2ecd14\" d=\"M 0 3 \n",
       "C 0.795609 3 1.55874 2.683901 2.12132 2.12132 \n",
       "C 2.683901 1.55874 3 0.795609 3 0 \n",
       "C 3 -0.795609 2.683901 -1.55874 2.12132 -2.12132 \n",
       "C 1.55874 -2.683901 0.795609 -3 0 -3 \n",
       "C -0.795609 -3 -1.55874 -2.683901 -2.12132 -2.12132 \n",
       "C -2.683901 -1.55874 -3 -0.795609 -3 0 \n",
       "C -3 0.795609 -2.683901 1.55874 -2.12132 2.12132 \n",
       "C -1.55874 2.683901 -0.795609 3 0 3 \n",
       "z\n",
       "\" style=\"stroke: #008fd5; stroke-width: 0.5\"/>\n",
       "    </defs>\n",
       "    <g clip-path=\"url(#pc262cd1242)\">\n",
       "     <use xlink:href=\"#m657d2ecd14\" x=\"314.413443\" y=\"115.357091\" style=\"fill: #008fd5; stroke: #008fd5; stroke-width: 0.5\"/>\n",
       "     <use xlink:href=\"#m657d2ecd14\" x=\"192.929807\" y=\"178.978909\" style=\"fill: #008fd5; stroke: #008fd5; stroke-width: 0.5\"/>\n",
       "     <use xlink:href=\"#m657d2ecd14\" x=\"435.89708\" y=\"19.924364\" style=\"fill: #008fd5; stroke: #008fd5; stroke-width: 0.5\"/>\n",
       "     <use xlink:href=\"#m657d2ecd14\" x=\"71.44617\" y=\"274.411636\" style=\"fill: #008fd5; stroke: #008fd5; stroke-width: 0.5\"/>\n",
       "     <use xlink:href=\"#m657d2ecd14\" x=\"192.929807\" y=\"226.695273\" style=\"fill: #008fd5; stroke: #008fd5; stroke-width: 0.5\"/>\n",
       "    </g>\n",
       "   </g>\n",
       "   <g id=\"patch_3\">\n",
       "    <path d=\"M 53.223625 287.136 \n",
       "L 53.223625 7.2 \n",
       "\" style=\"fill: none; stroke: #f0f0f0; stroke-width: 3; stroke-linejoin: miter; stroke-linecap: square\"/>\n",
       "   </g>\n",
       "   <g id=\"patch_4\">\n",
       "    <path d=\"M 454.119625 287.136 \n",
       "L 454.119625 7.2 \n",
       "\" style=\"fill: none; stroke: #f0f0f0; stroke-width: 3; stroke-linejoin: miter; stroke-linecap: square\"/>\n",
       "   </g>\n",
       "   <g id=\"patch_5\">\n",
       "    <path d=\"M 53.223625 287.136 \n",
       "L 454.119625 287.136 \n",
       "\" style=\"fill: none; stroke: #f0f0f0; stroke-width: 3; stroke-linejoin: miter; stroke-linecap: square\"/>\n",
       "   </g>\n",
       "   <g id=\"patch_6\">\n",
       "    <path d=\"M 53.223625 7.2 \n",
       "L 454.119625 7.2 \n",
       "\" style=\"fill: none; stroke: #f0f0f0; stroke-width: 3; stroke-linejoin: miter; stroke-linecap: square\"/>\n",
       "   </g>\n",
       "  </g>\n",
       " </g>\n",
       " <defs>\n",
       "  <clipPath id=\"pc262cd1242\">\n",
       "   <rect x=\"53.223625\" y=\"7.2\" width=\"400.896\" height=\"279.936\"/>\n",
       "  </clipPath>\n",
       " </defs>\n",
       "</svg>\n"
      ],
      "text/plain": [
       "<Figure size 640x480 with 1 Axes>"
      ]
     },
     "metadata": {},
     "output_type": "display_data"
    }
   ],
   "source": [
    "plt.scatter(houses[:,0], houses[:,1])\n",
    "plt.xlabel('Количество комнат')\n",
    "plt.ylabel('Площадь дома')"
   ]
  },
  {
   "cell_type": "markdown",
   "id": "57ba4789",
   "metadata": {},
   "source": [
    "Эти два признака сильно скореллированы и их можно расположить вдоль одной прямой, \n",
    "то есть фактически сжать данные до одного измерения не теряя информации. \n",
    "Данные будут представленны главной компонентой"
   ]
  },
  {
   "cell_type": "markdown",
   "id": "79f9b682",
   "metadata": {},
   "source": [
    "#### Алгоритм PCA"
   ]
  },
  {
   "cell_type": "code",
   "execution_count": 5,
   "id": "c6d04e4f",
   "metadata": {},
   "outputs": [
    {
     "data": {
      "text/plain": [
       "array([[5.  , 1.6 ],\n",
       "       [4.  , 1.4 ],\n",
       "       [6.  , 1.9 ],\n",
       "       [3.  , 1.1 ],\n",
       "       [4.  , 1.25]])"
      ]
     },
     "execution_count": 5,
     "metadata": {},
     "output_type": "execute_result"
    }
   ],
   "source": [
    "houses"
   ]
  },
  {
   "cell_type": "markdown",
   "id": "b5208d12",
   "metadata": {},
   "source": [
    "Найдем среднее значение для каждого признака"
   ]
  },
  {
   "cell_type": "code",
   "execution_count": 6,
   "id": "14744583",
   "metadata": {},
   "outputs": [
    {
     "data": {
      "text/plain": [
       "array([4.4 , 1.45])"
      ]
     },
     "execution_count": 6,
     "metadata": {},
     "output_type": "execute_result"
    }
   ],
   "source": [
    "mean_values = np.mean(houses, axis=0)\n",
    "mean_values"
   ]
  },
  {
   "cell_type": "markdown",
   "id": "00849b1c",
   "metadata": {},
   "source": [
    "Отнимем от значений признаков среднее"
   ]
  },
  {
   "cell_type": "code",
   "execution_count": 7,
   "id": "af697a95",
   "metadata": {},
   "outputs": [
    {
     "data": {
      "text/plain": [
       "array([[ 0.6 ,  0.15],\n",
       "       [-0.4 , -0.05],\n",
       "       [ 1.6 ,  0.45],\n",
       "       [-1.4 , -0.35],\n",
       "       [-0.4 , -0.2 ]])"
      ]
     },
     "execution_count": 7,
     "metadata": {},
     "output_type": "execute_result"
    }
   ],
   "source": [
    "houses_centred = houses - mean_values\n",
    "houses_centred"
   ]
  },
  {
   "cell_type": "markdown",
   "id": "fb523473",
   "metadata": {},
   "source": [
    "Найдем матрицу ковариаций (матрица попарных ковариаций признаков)"
   ]
  },
  {
   "cell_type": "code",
   "execution_count": 8,
   "id": "265e2963",
   "metadata": {},
   "outputs": [
    {
     "data": {
      "text/plain": [
       "array([[1.3   , 0.35  ],\n",
       "       [0.35  , 0.0975]])"
      ]
     },
     "execution_count": 8,
     "metadata": {},
     "output_type": "execute_result"
    }
   ],
   "source": [
    "covariance_matrix = np.cov(houses_centred.T)\n",
    "covariance_matrix"
   ]
  },
  {
   "cell_type": "markdown",
   "id": "67fee168",
   "metadata": {},
   "source": [
    "Проверка правильности найденной матрицы: дисперсии центрированных признаков должны совпадать с главной диагональю матрицы"
   ]
  },
  {
   "cell_type": "code",
   "execution_count": 10,
   "id": "99263c2c",
   "metadata": {},
   "outputs": [
    {
     "data": {
      "text/plain": [
       "1.3"
      ]
     },
     "execution_count": 10,
     "metadata": {},
     "output_type": "execute_result"
    }
   ],
   "source": [
    "np.var(houses_centred[:, 0], ddof=1)"
   ]
  },
  {
   "cell_type": "code",
   "execution_count": 11,
   "id": "ce2ce07f",
   "metadata": {},
   "outputs": [
    {
     "data": {
      "text/plain": [
       "0.09749999999999998"
      ]
     },
     "execution_count": 11,
     "metadata": {},
     "output_type": "execute_result"
    }
   ],
   "source": [
    "np.var(houses_centred[:, 1], ddof=1)"
   ]
  },
  {
   "cell_type": "markdown",
   "id": "999e68e7",
   "metadata": {},
   "source": [
    "найдем собственные значения и собственные векторы матрицы ковариации"
   ]
  },
  {
   "cell_type": "code",
   "execution_count": 12,
   "id": "e5ee741a",
   "metadata": {},
   "outputs": [],
   "source": [
    "eigenvalues, eigenvectors = np.linalg.eig(covariance_matrix)"
   ]
  },
  {
   "cell_type": "code",
   "execution_count": 13,
   "id": "cf54ea0d",
   "metadata": {},
   "outputs": [
    {
     "data": {
      "text/plain": [
       "array([1.39445221, 0.00304779])"
      ]
     },
     "execution_count": 13,
     "metadata": {},
     "output_type": "execute_result"
    }
   ],
   "source": [
    "eigenvalues"
   ]
  },
  {
   "cell_type": "code",
   "execution_count": 14,
   "id": "40a5a7e1",
   "metadata": {},
   "outputs": [
    {
     "data": {
      "text/plain": [
       "array([[ 0.96546225, -0.26054298],\n",
       "       [ 0.26054298,  0.96546225]])"
      ]
     },
     "execution_count": 14,
     "metadata": {},
     "output_type": "execute_result"
    }
   ],
   "source": [
    "eigenvectors"
   ]
  },
  {
   "cell_type": "markdown",
   "id": "5760661c",
   "metadata": {},
   "source": [
    "Собственные значения сильно отличаются eigenvalues[0] и eigenvalues[1]\n",
    "По этому возьмем только собственный вектор из столбца 0 eigenvectors"
   ]
  },
  {
   "cell_type": "markdown",
   "id": "7578c649",
   "metadata": {},
   "source": [
    "Умножим центрированные данные на этот вектор"
   ]
  },
  {
   "cell_type": "code",
   "execution_count": 15,
   "id": "004d1e33",
   "metadata": {},
   "outputs": [
    {
     "data": {
      "text/plain": [
       "array([[ 0.6183588 ],\n",
       "       [-0.39921205],\n",
       "       [ 1.66198394],\n",
       "       [-1.44283719],\n",
       "       [-0.4382935 ]])"
      ]
     },
     "execution_count": 15,
     "metadata": {},
     "output_type": "execute_result"
    }
   ],
   "source": [
    "rezult_pre = np.dot(houses_centred, eigenvectors[:, 0])\n",
    "rezult = rezult_pre.reshape(-1, 1)\n",
    "rezult"
   ]
  },
  {
   "cell_type": "markdown",
   "id": "ebf98901",
   "metadata": {},
   "source": [
    "Сравнение с результатом вычисления бибилиотеки sklearn"
   ]
  },
  {
   "cell_type": "code",
   "execution_count": 16,
   "id": "8d4db2a7",
   "metadata": {},
   "outputs": [],
   "source": [
    "from sklearn.decomposition import PCA"
   ]
  },
  {
   "cell_type": "code",
   "execution_count": 17,
   "id": "db2e3b28",
   "metadata": {},
   "outputs": [],
   "source": [
    "pca = PCA(n_components=1)"
   ]
  },
  {
   "cell_type": "code",
   "execution_count": 18,
   "id": "9fd5f524",
   "metadata": {},
   "outputs": [
    {
     "data": {
      "text/plain": [
       "array([[ 0.6183588 ],\n",
       "       [-0.39921205],\n",
       "       [ 1.66198394],\n",
       "       [-1.44283719],\n",
       "       [-0.4382935 ]])"
      ]
     },
     "execution_count": 18,
     "metadata": {},
     "output_type": "execute_result"
    }
   ],
   "source": [
    "mc = pca.fit_transform(houses)\n",
    "mc"
   ]
  },
  {
   "cell_type": "code",
   "execution_count": 19,
   "id": "e9676831",
   "metadata": {},
   "outputs": [
    {
     "data": {
      "text/plain": [
       "array([0.99781911])"
      ]
     },
     "execution_count": 19,
     "metadata": {},
     "output_type": "execute_result"
    }
   ],
   "source": [
    "pca.explained_variance_ratio_"
   ]
  },
  {
   "cell_type": "markdown",
   "id": "e0d8c5ba",
   "metadata": {},
   "source": [
    "### Применение PCA в моделях машинного обучения"
   ]
  },
  {
   "cell_type": "code",
   "execution_count": 26,
   "id": "e23c980c",
   "metadata": {},
   "outputs": [],
   "source": [
    "x_train = pd.read_pickle('x_train.pkl')\n",
    "y_train = pd.read_pickle('y_train.pkl')\n",
    "\n",
    "x_valid = pd.read_pickle('x_valid.pkl')\n",
    "y_valid = pd.read_pickle('y_valid.pkl')"
   ]
  },
  {
   "cell_type": "code",
   "execution_count": 27,
   "id": "dbd0aecf",
   "metadata": {},
   "outputs": [
    {
     "name": "stdout",
     "output_type": "stream",
     "text": [
      "<class 'pandas.core.frame.DataFrame'>\n",
      "Int64Index: 313 entries, 1024 to 994\n",
      "Data columns (total 11 columns):\n",
      " #   Column      Non-Null Count  Dtype  \n",
      "---  ------      --------------  -----  \n",
      " 0   Sex         313 non-null    int64  \n",
      " 1   Age         313 non-null    float64\n",
      " 2   SibSp       313 non-null    int64  \n",
      " 3   Parch       313 non-null    int64  \n",
      " 4   Fare        313 non-null    float64\n",
      " 5   Embarked_C  313 non-null    uint8  \n",
      " 6   Embarked_Q  313 non-null    uint8  \n",
      " 7   Embarked_S  313 non-null    uint8  \n",
      " 8   Pclass_1    313 non-null    uint8  \n",
      " 9   Pclass_2    313 non-null    uint8  \n",
      " 10  Pclass_3    313 non-null    uint8  \n",
      "dtypes: float64(2), int64(3), uint8(6)\n",
      "memory usage: 16.5 KB\n"
     ]
    }
   ],
   "source": [
    "x_train.info()"
   ]
  },
  {
   "cell_type": "code",
   "execution_count": 28,
   "id": "ed179dc7",
   "metadata": {},
   "outputs": [],
   "source": [
    "from sklearn.preprocessing import StandardScaler"
   ]
  },
  {
   "cell_type": "code",
   "execution_count": 29,
   "id": "b63c8d1e",
   "metadata": {},
   "outputs": [],
   "source": [
    "scaler = StandardScaler(with_mean=False)"
   ]
  },
  {
   "cell_type": "code",
   "execution_count": 31,
   "id": "4c7904c4",
   "metadata": {},
   "outputs": [],
   "source": [
    "x_train_scaled = scaler.fit_transform(x_train)\n",
    "x_valid_scaled = scaler.transform(x_valid)\n",
    "\n",
    "x_train_scaled = pd.DataFrame(x_train_scaled, columns=x_train.columns)\n",
    "x_valid_scaled = pd.DataFrame(x_valid_scaled, columns=x_train.columns)"
   ]
  },
  {
   "cell_type": "markdown",
   "id": "bd05a853",
   "metadata": {},
   "source": [
    "С начала мы не будем указывать число компонент (все компоненты будут сохранены)"
   ]
  },
  {
   "cell_type": "code",
   "execution_count": 32,
   "id": "0a70a45c",
   "metadata": {},
   "outputs": [],
   "source": [
    "pca = PCA(random_state=100)"
   ]
  },
  {
   "cell_type": "code",
   "execution_count": 33,
   "id": "e071d3d1",
   "metadata": {},
   "outputs": [
    {
     "data": {
      "text/html": [
       "<style>#sk-container-id-1 {color: black;background-color: white;}#sk-container-id-1 pre{padding: 0;}#sk-container-id-1 div.sk-toggleable {background-color: white;}#sk-container-id-1 label.sk-toggleable__label {cursor: pointer;display: block;width: 100%;margin-bottom: 0;padding: 0.3em;box-sizing: border-box;text-align: center;}#sk-container-id-1 label.sk-toggleable__label-arrow:before {content: \"▸\";float: left;margin-right: 0.25em;color: #696969;}#sk-container-id-1 label.sk-toggleable__label-arrow:hover:before {color: black;}#sk-container-id-1 div.sk-estimator:hover label.sk-toggleable__label-arrow:before {color: black;}#sk-container-id-1 div.sk-toggleable__content {max-height: 0;max-width: 0;overflow: hidden;text-align: left;background-color: #f0f8ff;}#sk-container-id-1 div.sk-toggleable__content pre {margin: 0.2em;color: black;border-radius: 0.25em;background-color: #f0f8ff;}#sk-container-id-1 input.sk-toggleable__control:checked~div.sk-toggleable__content {max-height: 200px;max-width: 100%;overflow: auto;}#sk-container-id-1 input.sk-toggleable__control:checked~label.sk-toggleable__label-arrow:before {content: \"▾\";}#sk-container-id-1 div.sk-estimator input.sk-toggleable__control:checked~label.sk-toggleable__label {background-color: #d4ebff;}#sk-container-id-1 div.sk-label input.sk-toggleable__control:checked~label.sk-toggleable__label {background-color: #d4ebff;}#sk-container-id-1 input.sk-hidden--visually {border: 0;clip: rect(1px 1px 1px 1px);clip: rect(1px, 1px, 1px, 1px);height: 1px;margin: -1px;overflow: hidden;padding: 0;position: absolute;width: 1px;}#sk-container-id-1 div.sk-estimator {font-family: monospace;background-color: #f0f8ff;border: 1px dotted black;border-radius: 0.25em;box-sizing: border-box;margin-bottom: 0.5em;}#sk-container-id-1 div.sk-estimator:hover {background-color: #d4ebff;}#sk-container-id-1 div.sk-parallel-item::after {content: \"\";width: 100%;border-bottom: 1px solid gray;flex-grow: 1;}#sk-container-id-1 div.sk-label:hover label.sk-toggleable__label {background-color: #d4ebff;}#sk-container-id-1 div.sk-serial::before {content: \"\";position: absolute;border-left: 1px solid gray;box-sizing: border-box;top: 0;bottom: 0;left: 50%;z-index: 0;}#sk-container-id-1 div.sk-serial {display: flex;flex-direction: column;align-items: center;background-color: white;padding-right: 0.2em;padding-left: 0.2em;position: relative;}#sk-container-id-1 div.sk-item {position: relative;z-index: 1;}#sk-container-id-1 div.sk-parallel {display: flex;align-items: stretch;justify-content: center;background-color: white;position: relative;}#sk-container-id-1 div.sk-item::before, #sk-container-id-1 div.sk-parallel-item::before {content: \"\";position: absolute;border-left: 1px solid gray;box-sizing: border-box;top: 0;bottom: 0;left: 50%;z-index: -1;}#sk-container-id-1 div.sk-parallel-item {display: flex;flex-direction: column;z-index: 1;position: relative;background-color: white;}#sk-container-id-1 div.sk-parallel-item:first-child::after {align-self: flex-end;width: 50%;}#sk-container-id-1 div.sk-parallel-item:last-child::after {align-self: flex-start;width: 50%;}#sk-container-id-1 div.sk-parallel-item:only-child::after {width: 0;}#sk-container-id-1 div.sk-dashed-wrapped {border: 1px dashed gray;margin: 0 0.4em 0.5em 0.4em;box-sizing: border-box;padding-bottom: 0.4em;background-color: white;}#sk-container-id-1 div.sk-label label {font-family: monospace;font-weight: bold;display: inline-block;line-height: 1.2em;}#sk-container-id-1 div.sk-label-container {text-align: center;}#sk-container-id-1 div.sk-container {/* jupyter's `normalize.less` sets `[hidden] { display: none; }` but bootstrap.min.css set `[hidden] { display: none !important; }` so we also need the `!important` here to be able to override the default hidden behavior on the sphinx rendered scikit-learn.org. See: https://github.com/scikit-learn/scikit-learn/issues/21755 */display: inline-block !important;position: relative;}#sk-container-id-1 div.sk-text-repr-fallback {display: none;}</style><div id=\"sk-container-id-1\" class=\"sk-top-container\"><div class=\"sk-text-repr-fallback\"><pre>PCA(random_state=100)</pre><b>In a Jupyter environment, please rerun this cell to show the HTML representation or trust the notebook. <br />On GitHub, the HTML representation is unable to render, please try loading this page with nbviewer.org.</b></div><div class=\"sk-container\" hidden><div class=\"sk-item\"><div class=\"sk-estimator sk-toggleable\"><input class=\"sk-toggleable__control sk-hidden--visually\" id=\"sk-estimator-id-1\" type=\"checkbox\" checked><label for=\"sk-estimator-id-1\" class=\"sk-toggleable__label sk-toggleable__label-arrow\">PCA</label><div class=\"sk-toggleable__content\"><pre>PCA(random_state=100)</pre></div></div></div></div></div>"
      ],
      "text/plain": [
       "PCA(random_state=100)"
      ]
     },
     "execution_count": 33,
     "metadata": {},
     "output_type": "execute_result"
    }
   ],
   "source": [
    "pca.fit(x_train_scaled)"
   ]
  },
  {
   "cell_type": "code",
   "execution_count": 34,
   "id": "149bc79c",
   "metadata": {},
   "outputs": [
    {
     "data": {
      "text/plain": [
       "array([2.62271641e-01, 1.81959262e-01, 1.32419313e-01, 1.07908584e-01,\n",
       "       9.91254255e-02, 7.20840330e-02, 6.09032029e-02, 4.98323804e-02,\n",
       "       3.34961576e-02, 1.56077286e-32, 8.60565749e-33])"
      ]
     },
     "execution_count": 34,
     "metadata": {},
     "output_type": "execute_result"
    }
   ],
   "source": [
    "pca.explained_variance_ratio_"
   ]
  },
  {
   "cell_type": "markdown",
   "id": "b2ffaab7",
   "metadata": {},
   "source": [
    "Если из 11 компонент возьмем 7 с самой большой дисперсией, то созраним 92% информации"
   ]
  },
  {
   "cell_type": "code",
   "execution_count": 36,
   "id": "9a1ca0b7",
   "metadata": {},
   "outputs": [
    {
     "data": {
      "text/plain": [
       "0.916671462002523"
      ]
     },
     "execution_count": 36,
     "metadata": {},
     "output_type": "execute_result"
    }
   ],
   "source": [
    "np.sum(pca.explained_variance_ratio_[:7])"
   ]
  },
  {
   "cell_type": "code",
   "execution_count": 37,
   "id": "1209ce67",
   "metadata": {},
   "outputs": [],
   "source": [
    "pca = PCA(n_components=7, random_state=100)"
   ]
  },
  {
   "cell_type": "code",
   "execution_count": 38,
   "id": "b91f340d",
   "metadata": {},
   "outputs": [],
   "source": [
    "x_train_mc = pca.fit_transform(x_train_scaled)\n"
   ]
  },
  {
   "cell_type": "code",
   "execution_count": 39,
   "id": "d552cc89",
   "metadata": {},
   "outputs": [],
   "source": [
    "x_valid_mc = pca.fit_transform(x_valid_scaled)"
   ]
  },
  {
   "cell_type": "markdown",
   "id": "762096fd",
   "metadata": {},
   "source": [
    "Построим модель логистической регресии"
   ]
  },
  {
   "cell_type": "code",
   "execution_count": 40,
   "id": "9bb22685",
   "metadata": {},
   "outputs": [],
   "source": [
    "from sklearn.linear_model import LogisticRegression"
   ]
  },
  {
   "cell_type": "code",
   "execution_count": 41,
   "id": "041072da",
   "metadata": {},
   "outputs": [],
   "source": [
    "lr = LogisticRegression()"
   ]
  },
  {
   "cell_type": "code",
   "execution_count": 42,
   "id": "af61c217",
   "metadata": {},
   "outputs": [
    {
     "data": {
      "text/html": [
       "<style>#sk-container-id-2 {color: black;background-color: white;}#sk-container-id-2 pre{padding: 0;}#sk-container-id-2 div.sk-toggleable {background-color: white;}#sk-container-id-2 label.sk-toggleable__label {cursor: pointer;display: block;width: 100%;margin-bottom: 0;padding: 0.3em;box-sizing: border-box;text-align: center;}#sk-container-id-2 label.sk-toggleable__label-arrow:before {content: \"▸\";float: left;margin-right: 0.25em;color: #696969;}#sk-container-id-2 label.sk-toggleable__label-arrow:hover:before {color: black;}#sk-container-id-2 div.sk-estimator:hover label.sk-toggleable__label-arrow:before {color: black;}#sk-container-id-2 div.sk-toggleable__content {max-height: 0;max-width: 0;overflow: hidden;text-align: left;background-color: #f0f8ff;}#sk-container-id-2 div.sk-toggleable__content pre {margin: 0.2em;color: black;border-radius: 0.25em;background-color: #f0f8ff;}#sk-container-id-2 input.sk-toggleable__control:checked~div.sk-toggleable__content {max-height: 200px;max-width: 100%;overflow: auto;}#sk-container-id-2 input.sk-toggleable__control:checked~label.sk-toggleable__label-arrow:before {content: \"▾\";}#sk-container-id-2 div.sk-estimator input.sk-toggleable__control:checked~label.sk-toggleable__label {background-color: #d4ebff;}#sk-container-id-2 div.sk-label input.sk-toggleable__control:checked~label.sk-toggleable__label {background-color: #d4ebff;}#sk-container-id-2 input.sk-hidden--visually {border: 0;clip: rect(1px 1px 1px 1px);clip: rect(1px, 1px, 1px, 1px);height: 1px;margin: -1px;overflow: hidden;padding: 0;position: absolute;width: 1px;}#sk-container-id-2 div.sk-estimator {font-family: monospace;background-color: #f0f8ff;border: 1px dotted black;border-radius: 0.25em;box-sizing: border-box;margin-bottom: 0.5em;}#sk-container-id-2 div.sk-estimator:hover {background-color: #d4ebff;}#sk-container-id-2 div.sk-parallel-item::after {content: \"\";width: 100%;border-bottom: 1px solid gray;flex-grow: 1;}#sk-container-id-2 div.sk-label:hover label.sk-toggleable__label {background-color: #d4ebff;}#sk-container-id-2 div.sk-serial::before {content: \"\";position: absolute;border-left: 1px solid gray;box-sizing: border-box;top: 0;bottom: 0;left: 50%;z-index: 0;}#sk-container-id-2 div.sk-serial {display: flex;flex-direction: column;align-items: center;background-color: white;padding-right: 0.2em;padding-left: 0.2em;position: relative;}#sk-container-id-2 div.sk-item {position: relative;z-index: 1;}#sk-container-id-2 div.sk-parallel {display: flex;align-items: stretch;justify-content: center;background-color: white;position: relative;}#sk-container-id-2 div.sk-item::before, #sk-container-id-2 div.sk-parallel-item::before {content: \"\";position: absolute;border-left: 1px solid gray;box-sizing: border-box;top: 0;bottom: 0;left: 50%;z-index: -1;}#sk-container-id-2 div.sk-parallel-item {display: flex;flex-direction: column;z-index: 1;position: relative;background-color: white;}#sk-container-id-2 div.sk-parallel-item:first-child::after {align-self: flex-end;width: 50%;}#sk-container-id-2 div.sk-parallel-item:last-child::after {align-self: flex-start;width: 50%;}#sk-container-id-2 div.sk-parallel-item:only-child::after {width: 0;}#sk-container-id-2 div.sk-dashed-wrapped {border: 1px dashed gray;margin: 0 0.4em 0.5em 0.4em;box-sizing: border-box;padding-bottom: 0.4em;background-color: white;}#sk-container-id-2 div.sk-label label {font-family: monospace;font-weight: bold;display: inline-block;line-height: 1.2em;}#sk-container-id-2 div.sk-label-container {text-align: center;}#sk-container-id-2 div.sk-container {/* jupyter's `normalize.less` sets `[hidden] { display: none; }` but bootstrap.min.css set `[hidden] { display: none !important; }` so we also need the `!important` here to be able to override the default hidden behavior on the sphinx rendered scikit-learn.org. See: https://github.com/scikit-learn/scikit-learn/issues/21755 */display: inline-block !important;position: relative;}#sk-container-id-2 div.sk-text-repr-fallback {display: none;}</style><div id=\"sk-container-id-2\" class=\"sk-top-container\"><div class=\"sk-text-repr-fallback\"><pre>LogisticRegression()</pre><b>In a Jupyter environment, please rerun this cell to show the HTML representation or trust the notebook. <br />On GitHub, the HTML representation is unable to render, please try loading this page with nbviewer.org.</b></div><div class=\"sk-container\" hidden><div class=\"sk-item\"><div class=\"sk-estimator sk-toggleable\"><input class=\"sk-toggleable__control sk-hidden--visually\" id=\"sk-estimator-id-2\" type=\"checkbox\" checked><label for=\"sk-estimator-id-2\" class=\"sk-toggleable__label sk-toggleable__label-arrow\">LogisticRegression</label><div class=\"sk-toggleable__content\"><pre>LogisticRegression()</pre></div></div></div></div></div>"
      ],
      "text/plain": [
       "LogisticRegression()"
      ]
     },
     "execution_count": 42,
     "metadata": {},
     "output_type": "execute_result"
    }
   ],
   "source": [
    "lr.fit(x_train_mc, y_train)"
   ]
  },
  {
   "cell_type": "code",
   "execution_count": 43,
   "id": "00994f55",
   "metadata": {},
   "outputs": [],
   "source": [
    "y_pred = lr.predict(x_valid_mc)"
   ]
  },
  {
   "cell_type": "code",
   "execution_count": 44,
   "id": "9e5976a1",
   "metadata": {},
   "outputs": [],
   "source": [
    "from sklearn.metrics import accuracy_score"
   ]
  },
  {
   "cell_type": "code",
   "execution_count": 45,
   "id": "511d54d4",
   "metadata": {},
   "outputs": [
    {
     "data": {
      "text/plain": [
       "0.7333333333333333"
      ]
     },
     "execution_count": 45,
     "metadata": {},
     "output_type": "execute_result"
    }
   ],
   "source": [
    "accuracy_score(y_valid, y_pred)"
   ]
  }
 ],
 "metadata": {
  "kernelspec": {
   "display_name": "Python 3 (ipykernel)",
   "language": "python",
   "name": "python3"
  },
  "language_info": {
   "codemirror_mode": {
    "name": "ipython",
    "version": 3
   },
   "file_extension": ".py",
   "mimetype": "text/x-python",
   "name": "python",
   "nbconvert_exporter": "python",
   "pygments_lexer": "ipython3",
   "version": "3.10.6"
  }
 },
 "nbformat": 4,
 "nbformat_minor": 5
}
